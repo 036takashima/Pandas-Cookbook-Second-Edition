{
  "nbformat": 4,
  "nbformat_minor": 0,
  "metadata": {
    "colab": {
      "name": "template.ipynb",
      "provenance": [],
      "authorship_tag": "ABX9TyNe624lsg4ebX0pqpJT7fGE",
      "include_colab_link": true
    },
    "kernelspec": {
      "name": "python3",
      "display_name": "Python 3"
    },
    "language_info": {
      "name": "python"
    }
  },
  "cells": [
    {
      "cell_type": "markdown",
      "metadata": {
        "id": "view-in-github",
        "colab_type": "text"
      },
      "source": [
        "<a href=\"https://colab.research.google.com/github/036takashima/Pandas-Cookbook-Second-Edition/blob/master/template.ipynb\" target=\"_parent\"><img src=\"https://colab.research.google.com/assets/colab-badge.svg\" alt=\"Open In Colab\"/></a>"
      ]
    },
    {
      "cell_type": "code",
      "metadata": {
        "id": "9TpZXDLaPiOm"
      },
      "source": [
        ""
      ],
      "execution_count": null,
      "outputs": []
    },
    {
      "cell_type": "markdown",
      "metadata": {
        "id": "_vmpPN3nRn-2"
      },
      "source": [
        "# 0.前提作業\n",
        "## 0-1.Google Colabで開くファイルを決定する\n",
        "https://colab.research.google.com/github/\n",
        "へブラウザでアクセス\n",
        "\n"
      ]
    },
    {
      "cell_type": "markdown",
      "metadata": {
        "id": "xCKjcYezXG8z"
      },
      "source": [
        "## 0-2.Google ColabにGithubからファイルを取り込む\n",
        "\n",
        "対象とするリポジトリ： https://github.com/036takashima/Pandas-Cookbook-Second-Edition.git\n",
        "\n",
        "取り込む先: drive/MyDrive/ColabNotebooks/PandasCookbook\n",
        "\n",
        "### 0-2-1.Googleドライブをマウントする \n",
        "\n"
      ]
    },
    {
      "cell_type": "code",
      "metadata": {
        "colab": {
          "base_uri": "https://localhost:8080/"
        },
        "id": "hR1AXrRtsfJH",
        "outputId": "624f9171-a078-459e-f059-73cf2edc740b"
      },
      "source": [
        "from google.colab import drive \n",
        "drive.mount('/content/drive', force_remount=True)"
      ],
      "execution_count": null,
      "outputs": [
        {
          "output_type": "stream",
          "name": "stdout",
          "text": [
            "Mounted at /content/drive\n"
          ]
        }
      ]
    },
    {
      "cell_type": "markdown",
      "metadata": {
        "id": "gO4YLsq2sTlS"
      },
      "source": [
        "### 0-2-2.ワークディレクトリへ移動する"
      ]
    },
    {
      "cell_type": "code",
      "metadata": {
        "colab": {
          "base_uri": "https://localhost:8080/"
        },
        "id": "P8kbX7MUXMQa",
        "outputId": "f6893021-dc6d-4585-ea07-04316129c909"
      },
      "source": [
        "%cd /content/drive/MyDrive/ColabNotebooks/"
      ],
      "execution_count": null,
      "outputs": [
        {
          "output_type": "stream",
          "name": "stdout",
          "text": [
            "/content/drive/MyDrive/ColabNotebooks\n"
          ]
        }
      ]
    },
    {
      "cell_type": "markdown",
      "metadata": {
        "id": "qLtTVycwoVjG"
      },
      "source": [
        "### 0-2-3.クローンする"
      ]
    },
    {
      "cell_type": "code",
      "metadata": {
        "id": "YhuIPl_UXoDH",
        "colab": {
          "base_uri": "https://localhost:8080/"
        },
        "outputId": "ae7d6c92-354b-4ed8-cef3-555095bc85d9"
      },
      "source": [
        "!git clone https://github.com/036takashima/Pandas-Cookbook-Second-Edition.git"
      ],
      "execution_count": null,
      "outputs": [
        {
          "output_type": "stream",
          "name": "stdout",
          "text": [
            "Cloning into 'Pandas-Cookbook-Second-Edition'...\n",
            "remote: Enumerating objects: 200, done.\u001b[K\n",
            "remote: Counting objects: 100% (200/200), done.\u001b[K\n",
            "remote: Compressing objects: 100% (143/143), done.\u001b[K\n",
            "remote: Total 200 (delta 60), reused 174 (delta 41), pack-reused 0\u001b[K\n",
            "Receiving objects: 100% (200/200), 40.23 MiB | 13.04 MiB/s, done.\n",
            "Resolving deltas: 100% (60/60), done.\n",
            "Checking out files: 100% (82/82), done.\n"
          ]
        }
      ]
    },
    {
      "cell_type": "code",
      "metadata": {
        "id": "HOR3f-liR7hT"
      },
      "source": [
        ""
      ],
      "execution_count": null,
      "outputs": []
    }
  ]
}