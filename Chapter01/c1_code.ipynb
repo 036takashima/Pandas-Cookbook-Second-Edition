{
  "nbformat": 4,
  "nbformat_minor": 0,
  "metadata": {
    "jupytext": {
      "cell_metadata_filter": "-all",
      "main_language": "python",
      "notebook_metadata_filter": "-all"
    },
    "colab": {
      "name": "c1_code.ipynb",
      "provenance": [],
      "include_colab_link": true
    },
    "language_info": {
      "name": "python"
    },
    "kernelspec": {
      "name": "python3",
      "display_name": "Python 3"
    },
    "accelerator": "TPU"
  },
  "cells": [
    {
      "cell_type": "markdown",
      "metadata": {
        "id": "view-in-github",
        "colab_type": "text"
      },
      "source": [
        "<a href=\"https://colab.research.google.com/github/036takashima/Pandas-Cookbook-Second-Edition/blob/master/Chapter01/c1_code.ipynb\" target=\"_parent\"><img src=\"https://colab.research.google.com/assets/colab-badge.svg\" alt=\"Open In Colab\"/></a>"
      ]
    },
    {
      "cell_type": "markdown",
      "metadata": {
        "id": "niyjGB02TrLa"
      },
      "source": [
        "# Chapter 1: Pandas Foundations"
      ]
    },
    {
      "cell_type": "code",
      "metadata": {
        "lines_to_next_cell": 2,
        "id": "sKCmGwz3TrLj"
      },
      "source": [
        "import pandas as pd\n",
        "import numpy as np"
      ],
      "execution_count": 1,
      "outputs": []
    },
    {
      "cell_type": "markdown",
      "metadata": {
        "id": "ShL-lLQUTrLm"
      },
      "source": [
        "## Introduction"
      ]
    },
    {
      "cell_type": "code",
      "metadata": {
        "colab": {
          "base_uri": "https://localhost:8080/"
        },
        "id": "25TRXvMRWWWL",
        "outputId": "f63f2047-8590-4fc8-fdbb-507e968d1ca5"
      },
      "source": [
        "from google.colab import drive\n",
        "drive.mount('/content/drive')"
      ],
      "execution_count": 2,
      "outputs": [
        {
          "output_type": "stream",
          "name": "stdout",
          "text": [
            "Mounted at /content/drive\n"
          ]
        }
      ]
    },
    {
      "cell_type": "markdown",
      "metadata": {
        "id": "bcuDGCJ2TrLn"
      },
      "source": [
        "## Dissecting the anatomy of a DataFrame"
      ]
    },
    {
      "cell_type": "code",
      "metadata": {
        "id": "yLgkebxEXapO"
      },
      "source": [
        "pd.set_option('max_columns', 4, 'max_rows', 10)"
      ],
      "execution_count": null,
      "outputs": []
    },
    {
      "cell_type": "markdown",
      "metadata": {
        "id": "auGp6ECuXsag"
      },
      "source": [
        "/dataのありかは以下の通り\n",
        "\n",
        "/content/drive/MyDrive/ColabNotebooks/Pandas-Cookbook-Second-Edition/data/"
      ]
    },
    {
      "cell_type": "code",
      "metadata": {
        "colab": {
          "base_uri": "https://localhost:8080/",
          "height": 232
        },
        "id": "MOYuAjysYKiQ",
        "outputId": "cb032c55-5231-4b2f-9a7b-59b18ce90795"
      },
      "source": [
        "movies = pd.read_csv('/content/drive/MyDrive/ColabNotebooks/Pandas-Cookbook-Second-Edition/data/movie.csv')\n",
        "movies.head()"
      ],
      "execution_count": null,
      "outputs": [
        {
          "output_type": "execute_result",
          "data": {
            "text/html": [
              "<div>\n",
              "<style scoped>\n",
              "    .dataframe tbody tr th:only-of-type {\n",
              "        vertical-align: middle;\n",
              "    }\n",
              "\n",
              "    .dataframe tbody tr th {\n",
              "        vertical-align: top;\n",
              "    }\n",
              "\n",
              "    .dataframe thead th {\n",
              "        text-align: right;\n",
              "    }\n",
              "</style>\n",
              "<table border=\"1\" class=\"dataframe\">\n",
              "  <thead>\n",
              "    <tr style=\"text-align: right;\">\n",
              "      <th></th>\n",
              "      <th>color</th>\n",
              "      <th>director_name</th>\n",
              "      <th>...</th>\n",
              "      <th>aspect_ratio</th>\n",
              "      <th>movie_facebook_likes</th>\n",
              "    </tr>\n",
              "  </thead>\n",
              "  <tbody>\n",
              "    <tr>\n",
              "      <th>0</th>\n",
              "      <td>Color</td>\n",
              "      <td>James Cameron</td>\n",
              "      <td>...</td>\n",
              "      <td>1.78</td>\n",
              "      <td>33000</td>\n",
              "    </tr>\n",
              "    <tr>\n",
              "      <th>1</th>\n",
              "      <td>Color</td>\n",
              "      <td>Gore Verbinski</td>\n",
              "      <td>...</td>\n",
              "      <td>2.35</td>\n",
              "      <td>0</td>\n",
              "    </tr>\n",
              "    <tr>\n",
              "      <th>2</th>\n",
              "      <td>Color</td>\n",
              "      <td>Sam Mendes</td>\n",
              "      <td>...</td>\n",
              "      <td>2.35</td>\n",
              "      <td>85000</td>\n",
              "    </tr>\n",
              "    <tr>\n",
              "      <th>3</th>\n",
              "      <td>Color</td>\n",
              "      <td>Christopher Nolan</td>\n",
              "      <td>...</td>\n",
              "      <td>2.35</td>\n",
              "      <td>164000</td>\n",
              "    </tr>\n",
              "    <tr>\n",
              "      <th>4</th>\n",
              "      <td>NaN</td>\n",
              "      <td>Doug Walker</td>\n",
              "      <td>...</td>\n",
              "      <td>NaN</td>\n",
              "      <td>0</td>\n",
              "    </tr>\n",
              "  </tbody>\n",
              "</table>\n",
              "<p>5 rows × 28 columns</p>\n",
              "</div>"
            ],
            "text/plain": [
              "   color      director_name  ...  aspect_ratio  movie_facebook_likes\n",
              "0  Color      James Cameron  ...          1.78                 33000\n",
              "1  Color     Gore Verbinski  ...          2.35                     0\n",
              "2  Color         Sam Mendes  ...          2.35                 85000\n",
              "3  Color  Christopher Nolan  ...          2.35                164000\n",
              "4    NaN        Doug Walker  ...           NaN                     0\n",
              "\n",
              "[5 rows x 28 columns]"
            ]
          },
          "metadata": {},
          "execution_count": 6
        }
      ]
    },
    {
      "cell_type": "markdown",
      "metadata": {
        "id": "MawwfAZSTrLq"
      },
      "source": [
        "### How it works..."
      ]
    },
    {
      "cell_type": "markdown",
      "metadata": {
        "id": "H_HkShZCTrLs"
      },
      "source": [
        "## DataFrame Attributes"
      ]
    },
    {
      "cell_type": "markdown",
      "metadata": {
        "id": "LLR8DHDmTrLt"
      },
      "source": [
        "### How to do it... {#how-to-do-it-1}"
      ]
    },
    {
      "cell_type": "code",
      "metadata": {
        "id": "CQX8r79dtkEv"
      },
      "source": [
        "movies = pd.read_csv('/content/drive/MyDrive/ColabNotebooks/Pandas-Cookbook-Second-Edition/data/movie.csv')\n",
        "columns = movies.columns\n",
        "index  =movies.index\n",
        "data = movies.values"
      ],
      "execution_count": null,
      "outputs": []
    },
    {
      "cell_type": "code",
      "metadata": {
        "colab": {
          "base_uri": "https://localhost:8080/"
        },
        "id": "YiQGpnpUt7z4",
        "outputId": "7b11ae76-727e-4390-9085-caceed988719"
      },
      "source": [
        "columns"
      ],
      "execution_count": null,
      "outputs": [
        {
          "output_type": "execute_result",
          "data": {
            "text/plain": [
              "Index(['color', 'director_name', 'num_critic_for_reviews', 'duration',\n",
              "       'director_facebook_likes', 'actor_3_facebook_likes', 'actor_2_name',\n",
              "       'actor_1_facebook_likes', 'gross', 'genres', 'actor_1_name',\n",
              "       'movie_title', 'num_voted_users', 'cast_total_facebook_likes',\n",
              "       'actor_3_name', 'facenumber_in_poster', 'plot_keywords',\n",
              "       'movie_imdb_link', 'num_user_for_reviews', 'language', 'country',\n",
              "       'content_rating', 'budget', 'title_year', 'actor_2_facebook_likes',\n",
              "       'imdb_score', 'aspect_ratio', 'movie_facebook_likes'],\n",
              "      dtype='object')"
            ]
          },
          "metadata": {},
          "execution_count": 8
        }
      ]
    },
    {
      "cell_type": "code",
      "metadata": {
        "colab": {
          "base_uri": "https://localhost:8080/"
        },
        "id": "bzmhkUhaumOZ",
        "outputId": "dd0787a2-3020-4aeb-fbb7-f3800f81741d"
      },
      "source": [
        "index"
      ],
      "execution_count": null,
      "outputs": [
        {
          "output_type": "execute_result",
          "data": {
            "text/plain": [
              "RangeIndex(start=0, stop=4916, step=1)"
            ]
          },
          "metadata": {},
          "execution_count": 9
        }
      ]
    },
    {
      "cell_type": "code",
      "metadata": {
        "colab": {
          "base_uri": "https://localhost:8080/"
        },
        "id": "fAe4U8nquq40",
        "outputId": "4f9e7b94-ec2c-40a1-b7f1-b2b84ea82eb7"
      },
      "source": [
        "data"
      ],
      "execution_count": null,
      "outputs": [
        {
          "output_type": "execute_result",
          "data": {
            "text/plain": [
              "array([['Color', 'James Cameron', 723.0, ..., 7.9, 1.78, 33000],\n",
              "       ['Color', 'Gore Verbinski', 302.0, ..., 7.1, 2.35, 0],\n",
              "       ['Color', 'Sam Mendes', 602.0, ..., 6.8, 2.35, 85000],\n",
              "       ...,\n",
              "       ['Color', 'Benjamin Roberds', 13.0, ..., 6.3, nan, 16],\n",
              "       ['Color', 'Daniel Hsia', 14.0, ..., 6.3, 2.35, 660],\n",
              "       ['Color', 'Jon Gunn', 43.0, ..., 6.6, 1.85, 456]], dtype=object)"
            ]
          },
          "metadata": {},
          "execution_count": 10
        }
      ]
    },
    {
      "cell_type": "code",
      "metadata": {
        "colab": {
          "base_uri": "https://localhost:8080/"
        },
        "id": "_dAn0YMBv-Oq",
        "outputId": "9fe7ff8d-56a7-450e-ff5f-ae5eafd04f53"
      },
      "source": [
        "type(index)"
      ],
      "execution_count": null,
      "outputs": [
        {
          "output_type": "execute_result",
          "data": {
            "text/plain": [
              "pandas.core.indexes.range.RangeIndex"
            ]
          },
          "metadata": {},
          "execution_count": 11
        }
      ]
    },
    {
      "cell_type": "code",
      "metadata": {
        "colab": {
          "base_uri": "https://localhost:8080/"
        },
        "id": "EzDgXxTgwOw_",
        "outputId": "aeae2a26-b5a0-4c91-c294-f7ef4db3e49c"
      },
      "source": [
        "type(columns)"
      ],
      "execution_count": null,
      "outputs": [
        {
          "output_type": "execute_result",
          "data": {
            "text/plain": [
              "pandas.core.indexes.base.Index"
            ]
          },
          "metadata": {},
          "execution_count": 12
        }
      ]
    },
    {
      "cell_type": "code",
      "metadata": {
        "colab": {
          "base_uri": "https://localhost:8080/"
        },
        "id": "nufJ3cwWwoKh",
        "outputId": "3bed2cd6-2934-4a1f-a21b-2cf5d1e713f0"
      },
      "source": [
        "type(data)"
      ],
      "execution_count": null,
      "outputs": [
        {
          "output_type": "execute_result",
          "data": {
            "text/plain": [
              "numpy.ndarray"
            ]
          },
          "metadata": {},
          "execution_count": 13
        }
      ]
    },
    {
      "cell_type": "code",
      "metadata": {
        "colab": {
          "base_uri": "https://localhost:8080/"
        },
        "id": "ikvSsRHVw-Wz",
        "outputId": "0f977a54-a089-4111-ad31-e247e20070bd"
      },
      "source": [
        "issubclass(pd.RangeIndex, pd.Index)"
      ],
      "execution_count": null,
      "outputs": [
        {
          "output_type": "execute_result",
          "data": {
            "text/plain": [
              "True"
            ]
          },
          "metadata": {},
          "execution_count": 14
        }
      ]
    },
    {
      "cell_type": "code",
      "metadata": {
        "colab": {
          "base_uri": "https://localhost:8080/"
        },
        "id": "QgOleHNExJji",
        "outputId": "38d08d70-51eb-4e37-eea0-3d49b6058ce3"
      },
      "source": [
        "issubclass(columns.__class__, pd.Index)"
      ],
      "execution_count": null,
      "outputs": [
        {
          "output_type": "execute_result",
          "data": {
            "text/plain": [
              "True"
            ]
          },
          "metadata": {},
          "execution_count": 15
        }
      ]
    },
    {
      "cell_type": "markdown",
      "metadata": {
        "id": "qtf40jVxTrLy"
      },
      "source": [
        "### How it works..."
      ]
    },
    {
      "cell_type": "markdown",
      "metadata": {
        "id": "n0y6G93xTrLz"
      },
      "source": [
        "### There's more"
      ]
    },
    {
      "cell_type": "code",
      "metadata": {
        "lines_to_next_cell": 2,
        "id": "5ltg2fQ1TrLz",
        "colab": {
          "base_uri": "https://localhost:8080/"
        },
        "outputId": "55fcd739-6450-4d93-c12b-4eaf9b2d3812"
      },
      "source": [
        "index.values"
      ],
      "execution_count": null,
      "outputs": [
        {
          "output_type": "execute_result",
          "data": {
            "text/plain": [
              "array([   0,    1,    2, ..., 4913, 4914, 4915])"
            ]
          },
          "metadata": {},
          "execution_count": 21
        }
      ]
    },
    {
      "cell_type": "code",
      "metadata": {
        "lines_to_next_cell": 2,
        "id": "0x5g12eTTrL0"
      },
      "source": [
        "columns.values"
      ],
      "execution_count": null,
      "outputs": []
    },
    {
      "cell_type": "markdown",
      "metadata": {
        "id": "uEuSyDAMTrL0"
      },
      "source": [
        "## Understanding data types"
      ]
    },
    {
      "cell_type": "markdown",
      "metadata": {
        "id": "fQl33SqMTrL1"
      },
      "source": [
        "### How to do it... {#how-to-do-it-2}"
      ]
    },
    {
      "cell_type": "code",
      "metadata": {
        "lines_to_next_cell": 2,
        "id": "WjvP0-mJTrL1",
        "colab": {
          "base_uri": "https://localhost:8080/"
        },
        "outputId": "576a174f-e90f-40f4-d9bb-a09862cd65f0"
      },
      "source": [
        "movies = pd.read_csv('/content/drive/MyDrive/ColabNotebooks/Pandas-Cookbook-Second-Edition/data/movie.csv')\n",
        "movies.dtypes"
      ],
      "execution_count": null,
      "outputs": [
        {
          "output_type": "execute_result",
          "data": {
            "text/plain": [
              "color                       object\n",
              "director_name               object\n",
              "num_critic_for_reviews     float64\n",
              "duration                   float64\n",
              "director_facebook_likes    float64\n",
              "                            ...   \n",
              "title_year                 float64\n",
              "actor_2_facebook_likes     float64\n",
              "imdb_score                 float64\n",
              "aspect_ratio               float64\n",
              "movie_facebook_likes         int64\n",
              "Length: 28, dtype: object"
            ]
          },
          "metadata": {},
          "execution_count": 23
        }
      ]
    },
    {
      "cell_type": "code",
      "metadata": {
        "lines_to_next_cell": 2,
        "id": "a0vuqmGPTrL2",
        "colab": {
          "base_uri": "https://localhost:8080/"
        },
        "outputId": "d29cf13f-e7a4-4112-914d-7ad24f99b1a8"
      },
      "source": [
        "movies.dtypes"
      ],
      "execution_count": null,
      "outputs": [
        {
          "output_type": "execute_result",
          "data": {
            "text/plain": [
              "color                       object\n",
              "director_name               object\n",
              "num_critic_for_reviews     float64\n",
              "duration                   float64\n",
              "director_facebook_likes    float64\n",
              "                            ...   \n",
              "title_year                 float64\n",
              "actor_2_facebook_likes     float64\n",
              "imdb_score                 float64\n",
              "aspect_ratio               float64\n",
              "movie_facebook_likes         int64\n",
              "Length: 28, dtype: object"
            ]
          },
          "metadata": {},
          "execution_count": 24
        }
      ]
    },
    {
      "cell_type": "code",
      "metadata": {
        "lines_to_next_cell": 2,
        "id": "J_8aYNNUTrL2",
        "colab": {
          "base_uri": "https://localhost:8080/"
        },
        "outputId": "a8d211eb-3686-40a1-f9cf-e3b915d9db97"
      },
      "source": [
        "movies.dtypes.value_counts()"
      ],
      "execution_count": null,
      "outputs": [
        {
          "output_type": "execute_result",
          "data": {
            "text/plain": [
              "float64    13\n",
              "object     12\n",
              "int64       3\n",
              "dtype: int64"
            ]
          },
          "metadata": {},
          "execution_count": 28
        }
      ]
    },
    {
      "cell_type": "code",
      "metadata": {
        "lines_to_next_cell": 2,
        "id": "UmhWAaUMTrL2",
        "colab": {
          "base_uri": "https://localhost:8080/"
        },
        "outputId": "7ba9dce4-e60c-48f3-836c-954d5fb18e26"
      },
      "source": [
        "movies.info()"
      ],
      "execution_count": null,
      "outputs": [
        {
          "output_type": "stream",
          "name": "stdout",
          "text": [
            "<class 'pandas.core.frame.DataFrame'>\n",
            "RangeIndex: 4916 entries, 0 to 4915\n",
            "Data columns (total 28 columns):\n",
            " #   Column                     Non-Null Count  Dtype  \n",
            "---  ------                     --------------  -----  \n",
            " 0   color                      4897 non-null   object \n",
            " 1   director_name              4814 non-null   object \n",
            " 2   num_critic_for_reviews     4867 non-null   float64\n",
            " 3   duration                   4901 non-null   float64\n",
            " 4   director_facebook_likes    4814 non-null   float64\n",
            " 5   actor_3_facebook_likes     4893 non-null   float64\n",
            " 6   actor_2_name               4903 non-null   object \n",
            " 7   actor_1_facebook_likes     4909 non-null   float64\n",
            " 8   gross                      4054 non-null   float64\n",
            " 9   genres                     4916 non-null   object \n",
            " 10  actor_1_name               4909 non-null   object \n",
            " 11  movie_title                4916 non-null   object \n",
            " 12  num_voted_users            4916 non-null   int64  \n",
            " 13  cast_total_facebook_likes  4916 non-null   int64  \n",
            " 14  actor_3_name               4893 non-null   object \n",
            " 15  facenumber_in_poster       4903 non-null   float64\n",
            " 16  plot_keywords              4764 non-null   object \n",
            " 17  movie_imdb_link            4916 non-null   object \n",
            " 18  num_user_for_reviews       4895 non-null   float64\n",
            " 19  language                   4904 non-null   object \n",
            " 20  country                    4911 non-null   object \n",
            " 21  content_rating             4616 non-null   object \n",
            " 22  budget                     4432 non-null   float64\n",
            " 23  title_year                 4810 non-null   float64\n",
            " 24  actor_2_facebook_likes     4903 non-null   float64\n",
            " 25  imdb_score                 4916 non-null   float64\n",
            " 26  aspect_ratio               4590 non-null   float64\n",
            " 27  movie_facebook_likes       4916 non-null   int64  \n",
            "dtypes: float64(13), int64(3), object(12)\n",
            "memory usage: 1.1+ MB\n"
          ]
        }
      ]
    },
    {
      "cell_type": "markdown",
      "metadata": {
        "id": "-dd6RjyPTrL3"
      },
      "source": [
        "### How it works..."
      ]
    },
    {
      "cell_type": "code",
      "metadata": {
        "lines_to_next_cell": 2,
        "id": "DvNoTv1DTrL3",
        "colab": {
          "base_uri": "https://localhost:8080/"
        },
        "outputId": "52d84790-3b2c-42c5-f1e4-da080c385bcc"
      },
      "source": [
        "pd.Series(['Paul', np.nan, 'George']).dtype"
      ],
      "execution_count": null,
      "outputs": [
        {
          "output_type": "execute_result",
          "data": {
            "text/plain": [
              "dtype('O')"
            ]
          },
          "metadata": {},
          "execution_count": 30
        }
      ]
    },
    {
      "cell_type": "markdown",
      "metadata": {
        "id": "LfbPNRnjTrL3"
      },
      "source": [
        "### There's more..."
      ]
    },
    {
      "cell_type": "markdown",
      "metadata": {
        "id": "zzkLam-pTrL3"
      },
      "source": [
        "### See also"
      ]
    },
    {
      "cell_type": "markdown",
      "metadata": {
        "id": "2z56yX8lTrL4"
      },
      "source": [
        "## Selecting a Column"
      ]
    },
    {
      "cell_type": "markdown",
      "metadata": {
        "id": "6IZi8ydSTrL4"
      },
      "source": [
        "### How to do it... {#how-to-do-it-3}"
      ]
    },
    {
      "cell_type": "code",
      "metadata": {
        "lines_to_next_cell": 2,
        "id": "SrMQy2X2TrL4",
        "colab": {
          "base_uri": "https://localhost:8080/"
        },
        "outputId": "6b9cf4f0-52a3-47b1-ae49-d9526b015dcb"
      },
      "source": [
        "movies = pd.read_csv('/content/drive/MyDrive/ColabNotebooks/Pandas-Cookbook-Second-Edition/data/movie.csv')\n",
        "movies['director_name']"
      ],
      "execution_count": null,
      "outputs": [
        {
          "output_type": "execute_result",
          "data": {
            "text/plain": [
              "0           James Cameron\n",
              "1          Gore Verbinski\n",
              "2              Sam Mendes\n",
              "3       Christopher Nolan\n",
              "4             Doug Walker\n",
              "              ...        \n",
              "4911          Scott Smith\n",
              "4912                  NaN\n",
              "4913     Benjamin Roberds\n",
              "4914          Daniel Hsia\n",
              "4915             Jon Gunn\n",
              "Name: director_name, Length: 4916, dtype: object"
            ]
          },
          "metadata": {},
          "execution_count": 4
        }
      ]
    },
    {
      "cell_type": "code",
      "metadata": {
        "lines_to_next_cell": 2,
        "id": "trtguklnTrL4",
        "colab": {
          "base_uri": "https://localhost:8080/"
        },
        "outputId": "e686ffbc-228f-4cff-f471-1bec87163da6"
      },
      "source": [
        "movies.director_name"
      ],
      "execution_count": null,
      "outputs": [
        {
          "output_type": "execute_result",
          "data": {
            "text/plain": [
              "0           James Cameron\n",
              "1          Gore Verbinski\n",
              "2              Sam Mendes\n",
              "3       Christopher Nolan\n",
              "4             Doug Walker\n",
              "              ...        \n",
              "4911          Scott Smith\n",
              "4912                  NaN\n",
              "4913     Benjamin Roberds\n",
              "4914          Daniel Hsia\n",
              "4915             Jon Gunn\n",
              "Name: director_name, Length: 4916, dtype: object"
            ]
          },
          "metadata": {},
          "execution_count": 32
        }
      ]
    },
    {
      "cell_type": "code",
      "metadata": {
        "lines_to_next_cell": 2,
        "id": "6agUewIITrL5",
        "colab": {
          "base_uri": "https://localhost:8080/"
        },
        "outputId": "1e558ac8-8b0b-4457-cc21-b68870da06f5"
      },
      "source": [
        "movies.loc[:, 'director_name']"
      ],
      "execution_count": null,
      "outputs": [
        {
          "output_type": "execute_result",
          "data": {
            "text/plain": [
              "0           James Cameron\n",
              "1          Gore Verbinski\n",
              "2              Sam Mendes\n",
              "3       Christopher Nolan\n",
              "4             Doug Walker\n",
              "              ...        \n",
              "4911          Scott Smith\n",
              "4912                  NaN\n",
              "4913     Benjamin Roberds\n",
              "4914          Daniel Hsia\n",
              "4915             Jon Gunn\n",
              "Name: director_name, Length: 4916, dtype: object"
            ]
          },
          "metadata": {},
          "execution_count": 33
        }
      ]
    },
    {
      "cell_type": "code",
      "metadata": {
        "lines_to_next_cell": 2,
        "id": "sdlM6DGCTrL5",
        "colab": {
          "base_uri": "https://localhost:8080/"
        },
        "outputId": "3f29f204-5776-4859-c2d3-47de16b9885c"
      },
      "source": [
        "movies.iloc[:, 1]"
      ],
      "execution_count": null,
      "outputs": [
        {
          "output_type": "execute_result",
          "data": {
            "text/plain": [
              "0           James Cameron\n",
              "1          Gore Verbinski\n",
              "2              Sam Mendes\n",
              "3       Christopher Nolan\n",
              "4             Doug Walker\n",
              "              ...        \n",
              "4911          Scott Smith\n",
              "4912                  NaN\n",
              "4913     Benjamin Roberds\n",
              "4914          Daniel Hsia\n",
              "4915             Jon Gunn\n",
              "Name: director_name, Length: 4916, dtype: object"
            ]
          },
          "metadata": {},
          "execution_count": 34
        }
      ]
    },
    {
      "cell_type": "code",
      "metadata": {
        "lines_to_next_cell": 2,
        "id": "QUyiimyhTrL5",
        "colab": {
          "base_uri": "https://localhost:8080/"
        },
        "outputId": "0b2902e5-c813-4a65-f641-28209cf8ddcc"
      },
      "source": [
        "movies['director_name'].index"
      ],
      "execution_count": null,
      "outputs": [
        {
          "output_type": "execute_result",
          "data": {
            "text/plain": [
              "RangeIndex(start=0, stop=4916, step=1)"
            ]
          },
          "metadata": {},
          "execution_count": 35
        }
      ]
    },
    {
      "cell_type": "code",
      "metadata": {
        "colab": {
          "base_uri": "https://localhost:8080/"
        },
        "id": "CQRiKGVtJnpn",
        "outputId": "0c6fd7fc-06e8-4351-b534-7d1ae8fff047"
      },
      "source": [
        "movies.director_name.index"
      ],
      "execution_count": null,
      "outputs": [
        {
          "output_type": "execute_result",
          "data": {
            "text/plain": [
              "RangeIndex(start=0, stop=4916, step=1)"
            ]
          },
          "metadata": {},
          "execution_count": 36
        }
      ]
    },
    {
      "cell_type": "code",
      "metadata": {
        "lines_to_next_cell": 2,
        "id": "BkQXa7hyTrL6",
        "colab": {
          "base_uri": "https://localhost:8080/"
        },
        "outputId": "6c6a2608-fce2-4206-c2c3-617c1d440a5a"
      },
      "source": [
        "movies['director_name'].dtype"
      ],
      "execution_count": null,
      "outputs": [
        {
          "output_type": "execute_result",
          "data": {
            "text/plain": [
              "dtype('O')"
            ]
          },
          "metadata": {},
          "execution_count": 37
        }
      ]
    },
    {
      "cell_type": "code",
      "metadata": {
        "colab": {
          "base_uri": "https://localhost:8080/"
        },
        "id": "eFAHaQFDJz82",
        "outputId": "8bcc0d7c-e140-46af-eb77-4f2d6033381f"
      },
      "source": [
        "movies.director_name.dtype"
      ],
      "execution_count": null,
      "outputs": [
        {
          "output_type": "execute_result",
          "data": {
            "text/plain": [
              "dtype('O')"
            ]
          },
          "metadata": {},
          "execution_count": 38
        }
      ]
    },
    {
      "cell_type": "code",
      "metadata": {
        "lines_to_next_cell": 2,
        "id": "VvYuuIrGTrL6",
        "colab": {
          "base_uri": "https://localhost:8080/"
        },
        "outputId": "bc867062-2265-414a-e264-a98ceb18bded"
      },
      "source": [
        "movies['director_name'].size"
      ],
      "execution_count": null,
      "outputs": [
        {
          "output_type": "execute_result",
          "data": {
            "text/plain": [
              "4916"
            ]
          },
          "metadata": {},
          "execution_count": 39
        }
      ]
    },
    {
      "cell_type": "code",
      "metadata": {
        "colab": {
          "base_uri": "https://localhost:8080/"
        },
        "id": "RaK6vtzQJ6PB",
        "outputId": "268993c2-2d3b-48b8-c2e0-160789584b03"
      },
      "source": [
        "movies.director_name.size"
      ],
      "execution_count": null,
      "outputs": [
        {
          "output_type": "execute_result",
          "data": {
            "text/plain": [
              "4916"
            ]
          },
          "metadata": {},
          "execution_count": 40
        }
      ]
    },
    {
      "cell_type": "code",
      "metadata": {
        "lines_to_next_cell": 2,
        "id": "35uPK2rmTrL6",
        "colab": {
          "base_uri": "https://localhost:8080/",
          "height": 35
        },
        "outputId": "33074148-b0c5-4147-c2a4-0a33b0934ed4"
      },
      "source": [
        "movies['director_name'].name"
      ],
      "execution_count": null,
      "outputs": [
        {
          "output_type": "execute_result",
          "data": {
            "application/vnd.google.colaboratory.intrinsic+json": {
              "type": "string"
            },
            "text/plain": [
              "'director_name'"
            ]
          },
          "metadata": {},
          "execution_count": 41
        }
      ]
    },
    {
      "cell_type": "code",
      "metadata": {
        "id": "Ntt-2n1QsIKe",
        "colab": {
          "base_uri": "https://localhost:8080/",
          "height": 35
        },
        "outputId": "b10f1053-1fca-4fe9-a107-94e390b06b46"
      },
      "source": [
        "movies.director_name.name"
      ],
      "execution_count": null,
      "outputs": [
        {
          "output_type": "execute_result",
          "data": {
            "application/vnd.google.colaboratory.intrinsic+json": {
              "type": "string"
            },
            "text/plain": [
              "'director_name'"
            ]
          },
          "metadata": {},
          "execution_count": 5
        }
      ]
    },
    {
      "cell_type": "code",
      "metadata": {
        "lines_to_next_cell": 2,
        "id": "77NUrxMHTrL6",
        "colab": {
          "base_uri": "https://localhost:8080/"
        },
        "outputId": "17add735-b2d2-4471-d660-82fb4e2b5400"
      },
      "source": [
        "type(movies['director_name'])"
      ],
      "execution_count": null,
      "outputs": [
        {
          "output_type": "execute_result",
          "data": {
            "text/plain": [
              "pandas.core.series.Series"
            ]
          },
          "metadata": {},
          "execution_count": 42
        }
      ]
    },
    {
      "cell_type": "code",
      "metadata": {
        "id": "ncJkp4hBsVPH",
        "colab": {
          "base_uri": "https://localhost:8080/"
        },
        "outputId": "13c05338-5ccf-4990-e542-98ee77d4bf22"
      },
      "source": [
        "type(movies.director_name)"
      ],
      "execution_count": null,
      "outputs": [
        {
          "output_type": "execute_result",
          "data": {
            "text/plain": [
              "pandas.core.series.Series"
            ]
          },
          "metadata": {},
          "execution_count": 6
        }
      ]
    },
    {
      "cell_type": "code",
      "metadata": {
        "lines_to_next_cell": 2,
        "id": "BkBU8DhITrL6"
      },
      "source": [
        "movies['director_name'].apply(type).unique()"
      ],
      "execution_count": null,
      "outputs": []
    },
    {
      "cell_type": "code",
      "metadata": {
        "id": "i4GIE-fOsfGN",
        "colab": {
          "base_uri": "https://localhost:8080/"
        },
        "outputId": "6922e7ef-496d-4f26-c245-940507ff0812"
      },
      "source": [
        "movies.director_name.apply(type).unique()"
      ],
      "execution_count": null,
      "outputs": [
        {
          "output_type": "execute_result",
          "data": {
            "text/plain": [
              "array([<class 'str'>, <class 'float'>], dtype=object)"
            ]
          },
          "metadata": {},
          "execution_count": 8
        }
      ]
    },
    {
      "cell_type": "markdown",
      "metadata": {
        "id": "NcUuNrwhTrL7"
      },
      "source": [
        "### How it works... 10/20"
      ]
    },
    {
      "cell_type": "markdown",
      "metadata": {
        "id": "p9ZZSZkYTrL7"
      },
      "source": [
        "### There's more"
      ]
    },
    {
      "cell_type": "markdown",
      "metadata": {
        "id": "KrSBd1rYTrL7"
      },
      "source": [
        "### See also"
      ]
    },
    {
      "cell_type": "markdown",
      "metadata": {
        "id": "n7HhwmjRTrL7"
      },
      "source": [
        "## Calling Series Methods"
      ]
    },
    {
      "cell_type": "code",
      "metadata": {
        "lines_to_next_cell": 2,
        "id": "rypO9bBMTrL7",
        "colab": {
          "base_uri": "https://localhost:8080/"
        },
        "outputId": "c88690f9-0921-40d1-f2c9-7a0c49d207cd"
      },
      "source": [
        "s_attr_methods = set(dir(pd.Series))\n",
        "len(s_attr_methods)"
      ],
      "execution_count": null,
      "outputs": [
        {
          "output_type": "execute_result",
          "data": {
            "text/plain": [
              "425"
            ]
          },
          "metadata": {},
          "execution_count": 9
        }
      ]
    },
    {
      "cell_type": "code",
      "metadata": {
        "lines_to_next_cell": 2,
        "id": "TdDl8qrmTrL7",
        "colab": {
          "base_uri": "https://localhost:8080/"
        },
        "outputId": "8b74a1d4-59e2-41af-fdf8-3e1241f91a22"
      },
      "source": [
        "df_attr_methods = set(dir(pd.DataFrame))\n",
        "len(df_attr_methods)"
      ],
      "execution_count": null,
      "outputs": [
        {
          "output_type": "execute_result",
          "data": {
            "text/plain": [
              "427"
            ]
          },
          "metadata": {},
          "execution_count": 10
        }
      ]
    },
    {
      "cell_type": "code",
      "metadata": {
        "lines_to_next_cell": 2,
        "id": "APTYOVkvTrL8",
        "colab": {
          "base_uri": "https://localhost:8080/"
        },
        "outputId": "a2baaac0-e6b1-43a3-d315-d097ebd5f3d8"
      },
      "source": [
        "len(s_attr_methods & df_attr_methods)"
      ],
      "execution_count": null,
      "outputs": [
        {
          "output_type": "execute_result",
          "data": {
            "text/plain": [
              "372"
            ]
          },
          "metadata": {},
          "execution_count": 11
        }
      ]
    },
    {
      "cell_type": "markdown",
      "metadata": {
        "id": "7R4HN1R6TrL8"
      },
      "source": [
        "### How to do it... {#how-to-do-it-4}"
      ]
    },
    {
      "cell_type": "code",
      "metadata": {
        "lines_to_next_cell": 2,
        "id": "ZREtgap2TrL8"
      },
      "source": [
        "movies = pd.read_csv('/content/drive/MyDrive/ColabNotebooks/Pandas-Cookbook-Second-Edition/data/movie.csv')\n",
        "director = movies['director_name']\n",
        "fb_likes = movies['actor_1_facebook_likes']"
      ],
      "execution_count": null,
      "outputs": []
    },
    {
      "cell_type": "code",
      "metadata": {
        "lines_to_next_cell": 2,
        "id": "2gesP3A1TrL8",
        "colab": {
          "base_uri": "https://localhost:8080/"
        },
        "outputId": "cda8fe81-953b-4849-c8a0-e0c5efd9adc0"
      },
      "source": [
        "director.dtype"
      ],
      "execution_count": null,
      "outputs": [
        {
          "output_type": "execute_result",
          "data": {
            "text/plain": [
              "dtype('O')"
            ]
          },
          "metadata": {},
          "execution_count": 14
        }
      ]
    },
    {
      "cell_type": "code",
      "metadata": {
        "lines_to_next_cell": 2,
        "id": "22yWIywETrL8",
        "colab": {
          "base_uri": "https://localhost:8080/"
        },
        "outputId": "da8b5e39-7a0a-45c5-dffc-c0c2aee6d31a"
      },
      "source": [
        "fb_likes.dtype"
      ],
      "execution_count": null,
      "outputs": [
        {
          "output_type": "execute_result",
          "data": {
            "text/plain": [
              "dtype('float64')"
            ]
          },
          "metadata": {},
          "execution_count": 15
        }
      ]
    },
    {
      "cell_type": "code",
      "metadata": {
        "id": "t2bXiegnuFMw",
        "colab": {
          "base_uri": "https://localhost:8080/"
        },
        "outputId": "d9e100e4-c6b4-4e23-9867-c679c35c08a7"
      },
      "source": [
        "director.head()"
      ],
      "execution_count": null,
      "outputs": [
        {
          "output_type": "execute_result",
          "data": {
            "text/plain": [
              "0        James Cameron\n",
              "1       Gore Verbinski\n",
              "2           Sam Mendes\n",
              "3    Christopher Nolan\n",
              "4          Doug Walker\n",
              "Name: director_name, dtype: object"
            ]
          },
          "metadata": {},
          "execution_count": 16
        }
      ]
    },
    {
      "cell_type": "code",
      "metadata": {
        "lines_to_next_cell": 2,
        "id": "a0mFdwRWTrL9"
      },
      "source": [
        "director.sample(n=5, random_state=42)"
      ],
      "execution_count": null,
      "outputs": []
    },
    {
      "cell_type": "code",
      "metadata": {
        "id": "Ct5YPG7WuP5w",
        "colab": {
          "base_uri": "https://localhost:8080/"
        },
        "outputId": "c4d09c91-b612-4be6-d6b5-60894c1a7e4d"
      },
      "source": [
        "director.sample(n=5)"
      ],
      "execution_count": null,
      "outputs": [
        {
          "output_type": "execute_result",
          "data": {
            "text/plain": [
              "4675            Eric England\n",
              "2879              Peter Weir\n",
              "313           Patrick Hughes\n",
              "2840    Michael Winterbottom\n",
              "608             Betty Thomas\n",
              "Name: director_name, dtype: object"
            ]
          },
          "metadata": {},
          "execution_count": 18
        }
      ]
    },
    {
      "cell_type": "code",
      "metadata": {
        "id": "4KyAiAEjudy2",
        "colab": {
          "base_uri": "https://localhost:8080/"
        },
        "outputId": "3c2115f6-aecf-4207-9964-67121870f202"
      },
      "source": [
        "fb_likes.head()"
      ],
      "execution_count": null,
      "outputs": [
        {
          "output_type": "execute_result",
          "data": {
            "text/plain": [
              "0     1000.0\n",
              "1    40000.0\n",
              "2    11000.0\n",
              "3    27000.0\n",
              "4      131.0\n",
              "Name: actor_1_facebook_likes, dtype: float64"
            ]
          },
          "metadata": {},
          "execution_count": 19
        }
      ]
    },
    {
      "cell_type": "code",
      "metadata": {
        "id": "SWWYd8R6upi6",
        "colab": {
          "base_uri": "https://localhost:8080/"
        },
        "outputId": "c310a9e2-f3ce-4958-f840-74d676932995"
      },
      "source": [
        "fb_likes.sample(n=5)"
      ],
      "execution_count": null,
      "outputs": [
        {
          "output_type": "execute_result",
          "data": {
            "text/plain": [
              "3999     939.0\n",
              "2470     593.0\n",
              "3283    1000.0\n",
              "3041    4000.0\n",
              "2948     845.0\n",
              "Name: actor_1_facebook_likes, dtype: float64"
            ]
          },
          "metadata": {},
          "execution_count": 20
        }
      ]
    },
    {
      "cell_type": "code",
      "metadata": {
        "lines_to_next_cell": 2,
        "id": "KHfEpURnTrL9",
        "colab": {
          "base_uri": "https://localhost:8080/"
        },
        "outputId": "1b9a5c17-aaec-4149-a3d1-77472ccceac4"
      },
      "source": [
        "director.value_counts()"
      ],
      "execution_count": null,
      "outputs": [
        {
          "output_type": "execute_result",
          "data": {
            "text/plain": [
              "Steven Spielberg       26\n",
              "Woody Allen            22\n",
              "Martin Scorsese        20\n",
              "Clint Eastwood         20\n",
              "Spike Lee              16\n",
              "                       ..\n",
              "Bob Dolman              1\n",
              "Michael Gornick         1\n",
              "Benedikt Erlingsson     1\n",
              "Herbert Ross            1\n",
              "Rupert Wainwright       1\n",
              "Name: director_name, Length: 2397, dtype: int64"
            ]
          },
          "metadata": {},
          "execution_count": 21
        }
      ]
    },
    {
      "cell_type": "code",
      "metadata": {
        "lines_to_next_cell": 2,
        "id": "H4OYU3CNTrL9",
        "colab": {
          "base_uri": "https://localhost:8080/"
        },
        "outputId": "306fef08-259d-4499-96a2-97b0bedaf6ae"
      },
      "source": [
        "fb_likes.value_counts()"
      ],
      "execution_count": null,
      "outputs": [
        {
          "output_type": "execute_result",
          "data": {
            "text/plain": [
              "1000.0     436\n",
              "11000.0    206\n",
              "2000.0     189\n",
              "3000.0     150\n",
              "12000.0    131\n",
              "          ... \n",
              "362.0        1\n",
              "216.0        1\n",
              "859.0        1\n",
              "225.0        1\n",
              "334.0        1\n",
              "Name: actor_1_facebook_likes, Length: 877, dtype: int64"
            ]
          },
          "metadata": {},
          "execution_count": 22
        }
      ]
    },
    {
      "cell_type": "code",
      "metadata": {
        "lines_to_next_cell": 2,
        "id": "UEIodAxzTrL-",
        "colab": {
          "base_uri": "https://localhost:8080/"
        },
        "outputId": "14eca5ab-001b-49b0-f221-106359dfc6c0"
      },
      "source": [
        "director.size"
      ],
      "execution_count": null,
      "outputs": [
        {
          "output_type": "execute_result",
          "data": {
            "text/plain": [
              "4916"
            ]
          },
          "metadata": {},
          "execution_count": 23
        }
      ]
    },
    {
      "cell_type": "code",
      "metadata": {
        "id": "0Gra_n6WvipL",
        "colab": {
          "base_uri": "https://localhost:8080/"
        },
        "outputId": "97997ec6-be13-4378-ad4e-49753e6851da"
      },
      "source": [
        "fb_likes.size"
      ],
      "execution_count": null,
      "outputs": [
        {
          "output_type": "execute_result",
          "data": {
            "text/plain": [
              "4916"
            ]
          },
          "metadata": {},
          "execution_count": 27
        }
      ]
    },
    {
      "cell_type": "code",
      "metadata": {
        "lines_to_next_cell": 2,
        "id": "6-8G0A_iTrL-",
        "colab": {
          "base_uri": "https://localhost:8080/"
        },
        "outputId": "3a66a2d3-47c1-4176-eac9-a3ad552d8335"
      },
      "source": [
        "director.shape"
      ],
      "execution_count": null,
      "outputs": [
        {
          "output_type": "execute_result",
          "data": {
            "text/plain": [
              "(4916,)"
            ]
          },
          "metadata": {},
          "execution_count": 24
        }
      ]
    },
    {
      "cell_type": "code",
      "metadata": {
        "id": "7DaiQyKtvl6d",
        "colab": {
          "base_uri": "https://localhost:8080/"
        },
        "outputId": "34a58c53-e8cd-4f9f-f567-8e2928b5dd11"
      },
      "source": [
        "fb_likes.shape"
      ],
      "execution_count": null,
      "outputs": [
        {
          "output_type": "execute_result",
          "data": {
            "text/plain": [
              "(4916,)"
            ]
          },
          "metadata": {},
          "execution_count": 28
        }
      ]
    },
    {
      "cell_type": "code",
      "metadata": {
        "lines_to_next_cell": 2,
        "id": "ZYTYRWbrTrL-",
        "colab": {
          "base_uri": "https://localhost:8080/"
        },
        "outputId": "1cdd093b-7ea4-46ec-d99f-1a234618dfa1"
      },
      "source": [
        "len(director)"
      ],
      "execution_count": null,
      "outputs": [
        {
          "output_type": "execute_result",
          "data": {
            "text/plain": [
              "4916"
            ]
          },
          "metadata": {},
          "execution_count": 25
        }
      ]
    },
    {
      "cell_type": "code",
      "metadata": {
        "id": "3-NwlNuHvrmw",
        "colab": {
          "base_uri": "https://localhost:8080/"
        },
        "outputId": "2b026aa0-51b6-4261-d67b-2e45457867dc"
      },
      "source": [
        "len(fb_likes)"
      ],
      "execution_count": null,
      "outputs": [
        {
          "output_type": "execute_result",
          "data": {
            "text/plain": [
              "4916"
            ]
          },
          "metadata": {},
          "execution_count": 29
        }
      ]
    },
    {
      "cell_type": "code",
      "metadata": {
        "lines_to_next_cell": 2,
        "id": "_UnhpdBJTrL-",
        "colab": {
          "base_uri": "https://localhost:8080/"
        },
        "outputId": "e7a54b62-69e8-4037-8275-920f0c53319c"
      },
      "source": [
        "director.unique()"
      ],
      "execution_count": null,
      "outputs": [
        {
          "output_type": "execute_result",
          "data": {
            "text/plain": [
              "array(['James Cameron', 'Gore Verbinski', 'Sam Mendes', ...,\n",
              "       'Scott Smith', 'Benjamin Roberds', 'Daniel Hsia'], dtype=object)"
            ]
          },
          "metadata": {},
          "execution_count": 26
        }
      ]
    },
    {
      "cell_type": "code",
      "metadata": {
        "id": "dllXzo_fvvMS",
        "colab": {
          "base_uri": "https://localhost:8080/"
        },
        "outputId": "3720e3a8-9df3-462a-defa-313bae69f1f1"
      },
      "source": [
        "fb_likes.unique()"
      ],
      "execution_count": null,
      "outputs": [
        {
          "output_type": "execute_result",
          "data": {
            "text/plain": [
              "array([1.00e+03, 4.00e+04, 1.10e+04, 2.70e+04, 1.31e+02, 6.40e+02,\n",
              "       2.40e+04, 7.99e+02, 2.60e+04, 2.50e+04, 1.50e+04, 1.80e+04,\n",
              "       4.51e+02, 2.20e+04, 1.00e+04, 5.00e+03, 8.91e+02, 1.60e+04,\n",
              "       6.00e+03, 2.90e+04, 2.10e+04, 1.40e+04, 3.00e+03, 8.83e+02,\n",
              "       2.00e+04, 1.20e+04, 8.94e+02, 9.74e+02, 4.40e+04, 2.30e+04,\n",
              "       1.70e+04, 3.40e+04, 1.90e+04, 9.79e+02, 2.75e+02, 2.00e+03,\n",
              "       9.98e+02, 2.68e+02, 8.70e+04, 7.11e+02, 6.22e+02, 4.00e+03,\n",
              "       7.56e+02, 9.75e+02, 8.90e+02, 6.48e+02, 5.44e+02, 5.31e+02,\n",
              "       6.62e+02, 4.90e+04, 3.09e+02, 2.34e+02, 7.30e+02, 9.21e+02,\n",
              "       8.51e+02, 7.69e+02, 7.83e+02, 1.30e+04, 9.57e+02, 8.20e+02,\n",
              "       9.86e+02, 7.66e+02, 6.13e+02, 9.82e+02, 5.35e+02, 6.88e+02,\n",
              "       6.05e+02, 8.45e+02, 9.20e+02, 7.84e+02, 7.74e+02, 8.86e+02,\n",
              "       6.90e+02, 2.73e+02, 9.36e+02, 8.33e+02, 3.90e+01, 6.50e+02,\n",
              "       5.96e+02, 8.11e+02, 4.80e+02, 6.69e+02, 3.83e+02, 6.81e+02,\n",
              "       6.73e+02, 7.60e+02, 8.52e+02, 5.00e+00, 7.52e+02, 7.80e+02,\n",
              "       5.58e+02, 9.25e+02, 6.60e+02, 8.27e+02, 8.00e+03, 4.90e+02,\n",
              "       1.44e+02, 6.23e+02, 9.62e+02, 8.73e+02, 6.93e+02, 7.70e+02,\n",
              "       1.91e+02, 8.35e+02, 3.50e+04, 6.91e+02, 5.91e+02, 1.92e+02,\n",
              "       9.19e+02, 6.80e+02, 8.87e+02, 2.83e+02, 6.70e+02, 8.79e+02,\n",
              "       5.84e+02, 6.72e+02, 8.13e+02, 6.11e+02, 4.09e+02, 8.75e+02,\n",
              "       5.77e+02, 8.98e+02, 3.40e+02, 9.00e+03, 2.30e+01, 9.81e+02,\n",
              "       8.82e+02, 7.43e+02, 5.29e+02, 2.00e+00, 5.63e+02, 6.70e+01,\n",
              "       7.95e+02, 1.63e+02, 7.00e+03, 6.10e+02, 7.19e+02, 8.67e+02,\n",
              "       9.12e+02, 3.74e+02, 7.45e+02, 5.82e+02, 9.33e+02, 5.48e+02,\n",
              "       9.06e+02, 9.40e+02, 2.10e+01, 7.10e+02, 6.92e+02, 8.70e+02,\n",
              "       9.60e+02, 4.43e+02, 9.03e+02, 9.89e+02, 3.94e+02, 3.49e+02,\n",
              "       8.44e+02, 5.76e+02, 6.14e+02, 9.66e+02, 7.88e+02, 5.37e+02,\n",
              "       9.95e+02, 9.01e+02, 8.48e+02, 6.00e+02, 5.09e+02, 3.24e+02,\n",
              "       9.63e+02, 1.77e+02, 6.45e+02, 9.67e+02, 5.24e+02, 4.60e+04,\n",
              "       4.19e+02, 9.88e+02, 4.33e+02, 6.58e+02, 8.81e+02, 8.54e+02,\n",
              "       3.66e+02, 8.34e+02, 7.32e+02, 7.89e+02, 5.39e+02, 8.74e+02,\n",
              "       3.30e+04, 3.10e+02, 4.36e+02, 5.10e+02, 2.87e+02, 8.65e+02,\n",
              "       7.22e+02, 9.68e+02, 8.89e+02, 9.73e+02, 7.94e+02, 9.70e+02,\n",
              "       1.42e+02, 9.31e+02, 9.26e+02, 8.47e+02, 4.85e+02, 5.34e+02,\n",
              "       5.70e+01, 8.38e+02, 9.39e+02, 9.56e+02, 2.26e+02, 6.17e+02,\n",
              "       2.77e+02, 5.93e+02, 1.17e+02, 6.31e+02, 1.34e+02, 2.11e+02,\n",
              "       9.61e+02, 6.77e+02, 1.45e+02, 6.25e+02, 4.26e+02, 1.54e+02,\n",
              "       4.16e+02, 4.95e+02, 9.92e+02, 4.37e+02, 2.94e+02, 6.27e+02,\n",
              "       3.30e+02, 3.25e+02, 4.50e+04, 4.30e+02, 6.29e+02, 5.10e+01,\n",
              "       9.72e+02, 9.84e+02, 8.41e+02, 5.99e+02, 5.98e+02, 7.79e+02,\n",
              "       1.13e+02, 6.78e+02, 2.90e+01, 9.24e+02, 8.07e+02, 5.45e+02,\n",
              "       8.21e+02, 5.21e+02, 7.49e+02, 5.50e+02, 4.27e+02, 9.13e+02,\n",
              "       9.05e+02, 7.23e+02, 2.67e+02, 1.64e+02, 8.49e+02, 2.19e+02,\n",
              "       4.40e+01, 4.05e+02, 5.79e+02, 4.68e+02, 6.83e+02, 9.22e+02,\n",
              "       6.24e+02, 3.26e+02, 6.87e+02, 1.07e+02, 7.34e+02, 6.68e+02,\n",
              "       9.70e+01, 8.55e+02, 9.04e+02, 7.00e+02, 1.64e+05, 5.78e+02,\n",
              "       8.36e+02, 7.08e+02, 3.87e+02, 9.54e+02, 8.80e+02, 4.72e+02,\n",
              "       1.76e+02, 7.20e+02, 7.03e+02, 7.87e+02, 2.93e+02, 6.07e+02,\n",
              "       9.64e+02, 3.27e+02, 8.77e+02, 9.78e+02, 6.36e+02, 7.82e+02,\n",
              "       9.76e+02, 6.10e+01, 8.84e+02, 4.99e+02, 2.18e+02, 1.52e+02,\n",
              "       7.47e+02, 7.55e+02, 5.92e+02, 6.43e+02, 7.60e+01, 3.08e+02,\n",
              "       6.28e+02, 3.70e+01, 3.78e+02, 7.86e+02, 7.40e+02, 4.63e+02,\n",
              "       5.51e+02, 1.80e+02, 4.96e+02, 7.46e+02, 6.85e+02, 9.44e+02,\n",
              "       5.41e+02, 4.61e+02, 8.08e+02, 7.68e+02, 7.78e+02, 4.92e+02,\n",
              "       9.47e+02, 9.00e+02, 8.12e+02, 8.26e+02, 9.69e+02, 8.97e+02,\n",
              "       2.88e+02, 3.96e+02, 4.46e+02, 7.75e+02, 9.07e+02, 4.65e+02,\n",
              "       5.53e+02, 6.94e+02, 6.35e+02, 6.95e+02, 8.37e+02, 3.00e+00,\n",
              "       3.00e+01, 5.54e+02, 3.72e+02, 6.00e+00, 8.18e+02, 1.65e+02,\n",
              "       7.73e+02, 9.18e+02, 3.44e+02, 7.16e+02, 6.49e+02, 6.38e+02,\n",
              "       8.39e+02, 2.44e+02, 6.16e+02, 9.71e+02, 4.42e+02, 3.03e+02,\n",
              "       5.06e+02, 5.67e+02, 6.96e+02, 4.55e+02, 5.85e+02, 8.69e+02,\n",
              "       5.81e+02, 1.57e+02, 6.63e+02, 7.59e+02, 4.89e+02, 4.73e+02,\n",
              "       4.48e+02, 1.47e+02, 8.76e+02, 2.95e+02, 1.14e+02, 5.23e+02,\n",
              "       7.57e+02, 9.55e+02, 5.04e+02, 5.59e+02, 6.39e+02, 1.73e+02,\n",
              "       1.10e+01, 6.64e+02, 5.80e+02, 9.43e+02, 7.31e+02, 4.22e+02,\n",
              "       4.97e+02, 6.30e+01, 8.06e+02, 7.38e+02, 5.94e+02, 3.58e+02,\n",
              "       3.86e+02, 9.53e+02, 6.60e+01, 4.91e+02, 7.48e+02, 3.85e+02,\n",
              "       3.32e+02, 7.71e+02, 6.42e+02, 2.60e+02, 6.55e+02, 9.34e+02,\n",
              "       2.64e+02, 4.40e+02, 7.13e+02, 6.40e+05, 7.42e+02, 2.72e+02,\n",
              "       7.44e+02, 2.96e+02, 3.28e+02, 6.01e+02, 2.85e+02, 4.69e+02,\n",
              "       4.60e+02, 9.00e+01, 6.18e+02, 4.50e+01, 4.62e+02, 9.02e+02,\n",
              "       7.98e+02, 3.55e+02, 9.85e+02, 3.38e+02, 5.62e+02, 4.00e+02,\n",
              "       1.72e+02, 1.81e+02, 9.41e+02, 1.74e+02, 8.43e+02, 9.27e+02,\n",
              "       9.08e+02, 2.79e+02, 7.90e+01, 8.93e+02, 5.12e+02, 7.21e+02,\n",
              "       5.27e+02, 2.01e+02, 8.05e+02, 5.56e+02, 1.29e+02, 3.29e+02,\n",
              "       8.96e+02, 3.90e+02, 1.50e+02, 2.40e+02, 2.03e+02, 8.09e+02,\n",
              "       2.00e+01, 5.33e+02, 9.80e+01, 6.08e+02, 5.26e+02, 3.04e+02,\n",
              "       5.08e+02, 5.65e+02, 8.60e+02, 3.10e+04, 1.41e+02, 7.41e+02,\n",
              "       1.25e+02, 6.46e+02, 0.00e+00, 6.06e+02, 9.91e+02, 9.09e+02,\n",
              "       6.51e+02, 3.02e+02, 1.37e+05, 3.46e+02, 8.56e+02, 2.04e+02,\n",
              "       9.97e+02, 8.85e+02, 8.29e+02, 5.72e+02, 8.01e+02, 4.88e+02,\n",
              "       6.99e+02, 4.60e+01, 1.06e+02, 4.03e+02, 4.83e+02, 1.09e+02,\n",
              "       7.29e+02, 4.86e+02, 8.88e+02, 5.00e+02, 3.41e+02, 1.70e+01,\n",
              "       9.48e+02, 6.54e+02, 8.20e+01, 7.27e+02, 8.28e+02, 1.55e+02,\n",
              "       9.46e+02, 5.17e+02, 2.10e+02, 7.12e+02, 4.56e+02, 5.97e+02,\n",
              "       3.64e+02, 8.40e+01, 4.44e+02, 9.23e+02, 1.58e+02, 8.66e+02,\n",
              "       5.49e+02, 4.82e+02, 4.53e+02, 7.15e+02, 7.67e+02, 6.34e+02,\n",
              "       2.14e+02, 7.14e+02, 2.27e+02, 9.96e+02, 2.41e+02, 9.11e+02,\n",
              "       8.61e+02, 6.33e+02, 1.75e+02, 5.55e+02, 5.03e+02, 2.32e+02,\n",
              "       2.35e+02, 1.03e+02, 9.40e+01, 8.16e+02, 1.16e+02, 1.93e+02,\n",
              "       4.71e+02, 3.54e+02, 7.96e+02, 5.95e+02, 6.50e+01, 4.77e+02,\n",
              "       8.57e+02, 1.36e+02, 6.40e+01, 8.25e+02, 7.76e+02, 7.35e+02,\n",
              "       1.79e+02, 4.67e+02, 8.92e+02, 7.06e+02, 7.18e+02, 8.78e+02,\n",
              "       4.13e+02, 5.43e+02, 1.59e+02, 4.23e+02, 1.49e+02, 4.12e+02,\n",
              "       3.80e+02, 6.97e+02, 7.00e+01, 5.69e+02, 6.56e+02, 1.30e+02,\n",
              "       6.19e+02, 5.71e+02, 8.99e+02, 6.59e+02, 8.03e+02, 5.52e+02,\n",
              "       3.06e+02, 1.70e+02, 7.70e+01, 7.17e+02, 9.30e+01, 2.80e+01,\n",
              "       4.52e+02, 3.47e+02, 7.33e+02, 3.62e+02, 5.25e+02, 6.00e+01,\n",
              "       7.97e+02, 9.00e+00, 6.86e+02, 5.20e+01, 3.99e+02, 1.50e+01,\n",
              "       2.15e+02, 7.85e+02, 2.76e+02, 4.25e+02, 9.17e+02, 6.65e+02,\n",
              "       3.81e+02, 5.64e+02, 6.80e+01, 4.94e+02, 7.26e+02, 3.71e+02,\n",
              "       9.29e+02, 2.20e+02, 2.58e+02, 7.72e+02, 2.40e+01, 7.53e+02,\n",
              "       8.23e+02, 4.02e+02, 7.54e+02, 5.30e+02, 3.07e+02, 9.90e+02,\n",
              "       6.03e+02, 4.78e+02, 7.80e+01, 4.39e+02, 1.22e+02, 2.98e+02,\n",
              "       3.00e+04, 1.83e+02, 3.98e+02, 7.64e+02, 5.57e+02, 1.48e+02,\n",
              "       1.87e+02, 3.11e+02, 3.92e+02, 7.02e+02, 7.00e+00, 1.86e+02,\n",
              "       6.79e+02, 1.85e+02, 5.73e+02, 9.49e+02, 3.50e+01, 7.36e+02,\n",
              "       2.05e+02, 2.17e+02, 1.33e+02, 3.89e+02, 4.49e+02, 3.63e+02,\n",
              "       4.84e+02, 6.66e+02, 4.34e+02, 9.77e+02, 5.02e+02, 3.73e+02,\n",
              "       7.10e+01, 2.62e+02, 5.32e+02, 2.25e+02, 5.13e+02, 6.37e+02,\n",
              "       2.46e+02, 7.61e+02, 2.06e+02, 4.74e+02, 4.00e+00, 9.10e+01,\n",
              "       9.90e+01, 2.70e+01, 8.04e+02, 4.35e+02, 5.60e+01, 4.31e+02,\n",
              "       1.80e+01, 3.82e+02, 3.21e+02, 9.37e+02, 2.63e+02, 3.97e+02,\n",
              "       6.82e+02, 3.91e+02, 3.43e+02, 2.29e+02, 2.50e+01, 3.68e+02,\n",
              "       3.10e+01, 2.86e+02, 3.93e+02, 2.08e+02, 9.35e+02, 2.69e+02,\n",
              "       5.20e+02, 8.59e+02, 5.50e+01, 7.50e+01, 1.97e+02, 4.32e+02,\n",
              "       3.31e+02, 5.70e+02, 2.37e+02, 7.40e+01, 1.88e+02, 5.89e+02,\n",
              "       2.74e+02, 8.50e+01, 4.64e+02, 1.10e+02, 7.07e+02, 2.30e+02,\n",
              "       5.22e+02, 8.62e+02, 4.20e+02, 4.80e+01, 9.45e+02, 2.54e+02,\n",
              "       7.62e+02, 2.23e+02, 7.63e+02, 1.66e+02, 5.07e+02, 4.14e+02,\n",
              "       1.19e+02, 8.90e+01, 5.75e+02, 2.55e+02, 1.95e+02, 5.60e+02,\n",
              "       6.32e+02, 2.80e+02, 4.38e+02, 9.42e+02, 2.53e+02, 8.80e+01,\n",
              "       5.16e+02, 1.40e+02, 6.41e+02, 6.74e+02, 5.74e+02, 5.36e+02,\n",
              "       4.00e+01, 2.89e+02, 4.87e+02, 2.31e+02, 6.52e+02, 3.19e+02,\n",
              "       2.16e+02, 4.47e+02, 1.05e+02, 4.81e+02, 1.23e+02, 8.71e+02,\n",
              "       5.00e+01, 3.34e+02, 1.27e+02, 5.86e+02, 6.75e+02, 1.60e+01,\n",
              "       7.20e+01, 4.20e+01, 6.76e+02, 1.28e+02, 1.20e+02, 8.46e+02,\n",
              "       3.14e+02, 5.38e+02, 2.51e+02, 2.65e+02, 4.59e+02, 1.78e+02,\n",
              "       1.68e+02, 3.88e+02, 1.89e+02, 3.30e+01, 3.53e+02, 1.60e+02,\n",
              "       1.21e+02, 1.61e+02, 4.10e+01, 6.47e+02, 7.01e+02, 8.60e+01,\n",
              "       2.81e+02, 5.30e+01, 4.21e+02, 2.60e+05, 3.80e+01, 1.99e+02,\n",
              "       5.01e+02, 8.70e+01, 2.82e+02,      nan, 3.40e+01, 4.98e+02,\n",
              "       5.11e+02, 1.40e+01, 1.20e+01, 2.66e+02, 4.30e+01, 3.56e+02,\n",
              "       2.02e+02, 6.12e+02, 2.45e+02, 4.06e+02, 1.02e+02, 7.24e+02,\n",
              "       5.90e+02, 9.60e+01, 4.58e+02, 2.24e+02, 3.35e+02, 9.20e+01,\n",
              "       6.57e+02, 9.38e+02, 2.84e+02, 4.18e+02, 4.90e+01, 2.47e+02,\n",
              "       3.12e+02, 1.08e+02, 8.00e+01, 6.02e+02, 5.87e+02, 4.07e+02,\n",
              "       1.96e+02, 5.40e+01, 6.90e+01, 9.80e+02, 3.42e+02, 2.39e+02,\n",
              "       3.22e+02, 4.66e+02, 8.00e+00, 2.20e+01, 3.61e+02, 5.80e+01,\n",
              "       5.90e+01, 1.69e+02, 4.70e+02, 6.15e+02, 3.59e+02, 4.70e+01,\n",
              "       1.90e+01, 3.75e+02, 3.18e+02, 6.44e+02, 1.56e+02, 3.60e+02,\n",
              "       2.50e+02, 7.93e+02, 1.00e+02, 1.35e+02, 3.37e+02, 2.36e+02,\n",
              "       8.10e+01, 8.14e+02, 7.28e+02, 7.70e+04, 2.59e+02, 1.38e+02,\n",
              "       5.05e+02, 3.60e+01, 2.70e+02, 3.76e+02, 2.00e+02, 8.30e+02,\n",
              "       1.26e+02, 1.43e+02, 2.38e+02, 1.18e+02, 1.11e+02, 2.60e+01,\n",
              "       7.25e+02, 2.52e+02, 3.20e+01, 3.13e+02, 3.70e+02, 6.30e+02,\n",
              "       1.00e+01, 2.91e+02])"
            ]
          },
          "metadata": {},
          "execution_count": 30
        }
      ]
    },
    {
      "cell_type": "code",
      "metadata": {
        "lines_to_next_cell": 2,
        "id": "wo7tvjwrTrL-",
        "colab": {
          "base_uri": "https://localhost:8080/"
        },
        "outputId": "c647d6a6-382c-4cf1-8c5e-a6bf3d92955a"
      },
      "source": [
        "director.count()"
      ],
      "execution_count": null,
      "outputs": [
        {
          "output_type": "execute_result",
          "data": {
            "text/plain": [
              "4814"
            ]
          },
          "metadata": {},
          "execution_count": 31
        }
      ]
    },
    {
      "cell_type": "code",
      "metadata": {
        "lines_to_next_cell": 2,
        "id": "-IKYZKt8TrL-",
        "colab": {
          "base_uri": "https://localhost:8080/"
        },
        "outputId": "287be8f4-98b4-4f3d-d27f-35dbaa61f197"
      },
      "source": [
        "fb_likes.count()"
      ],
      "execution_count": null,
      "outputs": [
        {
          "output_type": "execute_result",
          "data": {
            "text/plain": [
              "4909"
            ]
          },
          "metadata": {},
          "execution_count": 32
        }
      ]
    },
    {
      "cell_type": "code",
      "metadata": {
        "lines_to_next_cell": 2,
        "id": "e0GL7HhDTrL_",
        "colab": {
          "base_uri": "https://localhost:8080/"
        },
        "outputId": "a80c71ed-df51-4e64-faef-17c0e701ff56"
      },
      "source": [
        "fb_likes.quantile()"
      ],
      "execution_count": null,
      "outputs": [
        {
          "output_type": "execute_result",
          "data": {
            "text/plain": [
              "982.0"
            ]
          },
          "metadata": {},
          "execution_count": 33
        }
      ]
    },
    {
      "cell_type": "code",
      "metadata": {
        "lines_to_next_cell": 2,
        "id": "2xJUG5h5TrL_",
        "colab": {
          "base_uri": "https://localhost:8080/"
        },
        "outputId": "607c2086-00dc-422b-eed5-cecd7f4e6a14"
      },
      "source": [
        "fb_likes.min()"
      ],
      "execution_count": null,
      "outputs": [
        {
          "output_type": "execute_result",
          "data": {
            "text/plain": [
              "0.0"
            ]
          },
          "metadata": {},
          "execution_count": 34
        }
      ]
    },
    {
      "cell_type": "code",
      "metadata": {
        "lines_to_next_cell": 2,
        "id": "5gqmQy9hTrL_",
        "colab": {
          "base_uri": "https://localhost:8080/"
        },
        "outputId": "229d74cf-a3a4-4ce2-cbc8-69ab08d5a19b"
      },
      "source": [
        "fb_likes.max()"
      ],
      "execution_count": null,
      "outputs": [
        {
          "output_type": "execute_result",
          "data": {
            "text/plain": [
              "640000.0"
            ]
          },
          "metadata": {},
          "execution_count": 35
        }
      ]
    },
    {
      "cell_type": "code",
      "metadata": {
        "lines_to_next_cell": 2,
        "id": "t5uO5bj4TrL_",
        "colab": {
          "base_uri": "https://localhost:8080/"
        },
        "outputId": "a778b4f7-2ec1-4bbd-99e1-c5fc88158534"
      },
      "source": [
        "fb_likes.mean()"
      ],
      "execution_count": null,
      "outputs": [
        {
          "output_type": "execute_result",
          "data": {
            "text/plain": [
              "6494.488490527602"
            ]
          },
          "metadata": {},
          "execution_count": 36
        }
      ]
    },
    {
      "cell_type": "code",
      "metadata": {
        "lines_to_next_cell": 2,
        "id": "yDnLMp5BTrL_",
        "colab": {
          "base_uri": "https://localhost:8080/"
        },
        "outputId": "23b0d3e7-992d-49fc-f5b8-484993ecfc53"
      },
      "source": [
        "fb_likes.median()"
      ],
      "execution_count": null,
      "outputs": [
        {
          "output_type": "execute_result",
          "data": {
            "text/plain": [
              "982.0"
            ]
          },
          "metadata": {},
          "execution_count": 37
        }
      ]
    },
    {
      "cell_type": "code",
      "metadata": {
        "lines_to_next_cell": 2,
        "id": "oKojEQcCTrL_",
        "colab": {
          "base_uri": "https://localhost:8080/"
        },
        "outputId": "4a2d72aa-dc9e-44ac-cef1-ff403bc28645"
      },
      "source": [
        "fb_likes.std()"
      ],
      "execution_count": null,
      "outputs": [
        {
          "output_type": "execute_result",
          "data": {
            "text/plain": [
              "15106.986883848309"
            ]
          },
          "metadata": {},
          "execution_count": 38
        }
      ]
    },
    {
      "cell_type": "code",
      "metadata": {
        "lines_to_next_cell": 2,
        "id": "Yg_mwACUTrL_",
        "colab": {
          "base_uri": "https://localhost:8080/"
        },
        "outputId": "d6ef2c0b-cf4c-4a9f-c421-1dc1290c8954"
      },
      "source": [
        "fb_likes.describe()"
      ],
      "execution_count": null,
      "outputs": [
        {
          "output_type": "execute_result",
          "data": {
            "text/plain": [
              "count      4909.000000\n",
              "mean       6494.488491\n",
              "std       15106.986884\n",
              "min           0.000000\n",
              "25%         607.000000\n",
              "50%         982.000000\n",
              "75%       11000.000000\n",
              "max      640000.000000\n",
              "Name: actor_1_facebook_likes, dtype: float64"
            ]
          },
          "metadata": {},
          "execution_count": 39
        }
      ]
    },
    {
      "cell_type": "code",
      "metadata": {
        "lines_to_next_cell": 2,
        "id": "sWk4G1FnTrMA",
        "colab": {
          "base_uri": "https://localhost:8080/"
        },
        "outputId": "99875a21-166f-48a0-d1c9-07494dfe435e"
      },
      "source": [
        "director.describe()"
      ],
      "execution_count": null,
      "outputs": [
        {
          "output_type": "execute_result",
          "data": {
            "text/plain": [
              "count                 4814\n",
              "unique                2397\n",
              "top       Steven Spielberg\n",
              "freq                    26\n",
              "Name: director_name, dtype: object"
            ]
          },
          "metadata": {},
          "execution_count": 40
        }
      ]
    },
    {
      "cell_type": "code",
      "metadata": {
        "lines_to_next_cell": 2,
        "id": "y74zL7VBTrMA"
      },
      "source": [
        "fb_likes.quantile(.2)"
      ],
      "execution_count": null,
      "outputs": []
    },
    {
      "cell_type": "code",
      "metadata": {
        "id": "bKVfNdEtwo7Y",
        "colab": {
          "base_uri": "https://localhost:8080/"
        },
        "outputId": "eb325994-11a8-4c51-a236-4eb92b6ea96e"
      },
      "source": [
        "fb_likes.quantile(.25)"
      ],
      "execution_count": null,
      "outputs": [
        {
          "output_type": "execute_result",
          "data": {
            "text/plain": [
              "607.0"
            ]
          },
          "metadata": {},
          "execution_count": 41
        }
      ]
    },
    {
      "cell_type": "code",
      "metadata": {
        "lines_to_next_cell": 2,
        "id": "Ltlsmk8mTrMA",
        "colab": {
          "base_uri": "https://localhost:8080/"
        },
        "outputId": "6e4c4f7d-6086-4ae7-ad30-041267cf008c"
      },
      "source": [
        "fb_likes.quantile([.1, .2, .3, .4, .5, .6, .7, .8, .9])"
      ],
      "execution_count": null,
      "outputs": [
        {
          "output_type": "execute_result",
          "data": {
            "text/plain": [
              "0.1      240.0\n",
              "0.2      510.0\n",
              "0.3      694.0\n",
              "0.4      854.0\n",
              "0.5      982.0\n",
              "0.6     1000.0\n",
              "0.7     8000.0\n",
              "0.8    13000.0\n",
              "0.9    18000.0\n",
              "Name: actor_1_facebook_likes, dtype: float64"
            ]
          },
          "metadata": {},
          "execution_count": 42
        }
      ]
    },
    {
      "cell_type": "code",
      "metadata": {
        "lines_to_next_cell": 2,
        "id": "Hjt8ZKkATrMA",
        "colab": {
          "base_uri": "https://localhost:8080/"
        },
        "outputId": "f364ed71-f8cd-448d-cf59-94d34dd2d7c9"
      },
      "source": [
        "director.isna()"
      ],
      "execution_count": null,
      "outputs": [
        {
          "output_type": "execute_result",
          "data": {
            "text/plain": [
              "0       False\n",
              "1       False\n",
              "2       False\n",
              "3       False\n",
              "4       False\n",
              "        ...  \n",
              "4911    False\n",
              "4912     True\n",
              "4913    False\n",
              "4914    False\n",
              "4915    False\n",
              "Name: director_name, Length: 4916, dtype: bool"
            ]
          },
          "metadata": {},
          "execution_count": 43
        }
      ]
    },
    {
      "cell_type": "code",
      "metadata": {
        "lines_to_next_cell": 2,
        "id": "7uLcKatzTrMA",
        "colab": {
          "base_uri": "https://localhost:8080/"
        },
        "outputId": "796e2c7b-a8b0-4e2c-b293-bb6774b47310"
      },
      "source": [
        "fb_likes_filled = fb_likes.fillna(0)\n",
        "fb_likes_filled.count()"
      ],
      "execution_count": null,
      "outputs": [
        {
          "output_type": "execute_result",
          "data": {
            "text/plain": [
              "4916"
            ]
          },
          "metadata": {},
          "execution_count": 44
        }
      ]
    },
    {
      "cell_type": "code",
      "metadata": {
        "lines_to_next_cell": 2,
        "id": "vPGEFVDtTrMB",
        "colab": {
          "base_uri": "https://localhost:8080/"
        },
        "outputId": "6f4bb413-a507-4999-c27f-f08bfee0f21a"
      },
      "source": [
        "fb_likes_dropped = fb_likes.dropna()\n",
        "fb_likes_dropped.size"
      ],
      "execution_count": null,
      "outputs": [
        {
          "output_type": "execute_result",
          "data": {
            "text/plain": [
              "4909"
            ]
          },
          "metadata": {},
          "execution_count": 45
        }
      ]
    },
    {
      "cell_type": "markdown",
      "metadata": {
        "id": "kxY88RyPTrMB"
      },
      "source": [
        "### How it works..."
      ]
    },
    {
      "cell_type": "markdown",
      "metadata": {
        "id": "okMo0fmaTrMB"
      },
      "source": [
        "### There's more..."
      ]
    },
    {
      "cell_type": "code",
      "metadata": {
        "lines_to_next_cell": 2,
        "id": "mI6RxU4aTrMB",
        "colab": {
          "base_uri": "https://localhost:8080/"
        },
        "outputId": "625e4ce5-f548-4aa0-eea6-383073e71496"
      },
      "source": [
        "director.value_counts(normalize=True)"
      ],
      "execution_count": null,
      "outputs": [
        {
          "output_type": "execute_result",
          "data": {
            "text/plain": [
              "Steven Spielberg       0.005401\n",
              "Woody Allen            0.004570\n",
              "Martin Scorsese        0.004155\n",
              "Clint Eastwood         0.004155\n",
              "Spike Lee              0.003324\n",
              "                         ...   \n",
              "Bob Dolman             0.000208\n",
              "Michael Gornick        0.000208\n",
              "Benedikt Erlingsson    0.000208\n",
              "Herbert Ross           0.000208\n",
              "Rupert Wainwright      0.000208\n",
              "Name: director_name, Length: 2397, dtype: float64"
            ]
          },
          "metadata": {},
          "execution_count": 46
        }
      ]
    },
    {
      "cell_type": "code",
      "metadata": {
        "lines_to_next_cell": 2,
        "id": "SoPz09xQTrMB",
        "colab": {
          "base_uri": "https://localhost:8080/"
        },
        "outputId": "99509d4c-fbed-4cb9-e900-2cf72a712d49"
      },
      "source": [
        "director.hasnans"
      ],
      "execution_count": null,
      "outputs": [
        {
          "output_type": "execute_result",
          "data": {
            "text/plain": [
              "True"
            ]
          },
          "metadata": {},
          "execution_count": 47
        }
      ]
    },
    {
      "cell_type": "code",
      "metadata": {
        "lines_to_next_cell": 2,
        "id": "qDhwWRhVTrMB"
      },
      "source": [
        "director.notna()"
      ],
      "execution_count": null,
      "outputs": []
    },
    {
      "cell_type": "markdown",
      "metadata": {
        "id": "uOZAmYgJTrMB"
      },
      "source": [
        "### See also"
      ]
    },
    {
      "cell_type": "markdown",
      "metadata": {
        "id": "3rQFGy3gTrMC"
      },
      "source": [
        "## Series Operations 10/24"
      ]
    },
    {
      "cell_type": "code",
      "metadata": {
        "lines_to_next_cell": 2,
        "id": "9AUZ6bbrTrMC",
        "colab": {
          "base_uri": "https://localhost:8080/"
        },
        "outputId": "c2de047d-3e32-42de-db32-1131c68181af"
      },
      "source": [
        "5 + 9    # plus operator example. Adds 5 and 9"
      ],
      "execution_count": null,
      "outputs": [
        {
          "output_type": "execute_result",
          "data": {
            "text/plain": [
              "14"
            ]
          },
          "metadata": {},
          "execution_count": 1
        }
      ]
    },
    {
      "cell_type": "markdown",
      "metadata": {
        "id": "Nq2HyGTqTrMC"
      },
      "source": [
        "### How to do it... {#how-to-do-it-5}"
      ]
    },
    {
      "cell_type": "code",
      "metadata": {
        "lines_to_next_cell": 2,
        "id": "-WSg0V5aTrMC",
        "colab": {
          "base_uri": "https://localhost:8080/"
        },
        "outputId": "e48821f9-c494-42b3-ed86-2e4094181aa3"
      },
      "source": [
        "movies = pd.read_csv('/content/drive/MyDrive/ColabNotebooks/Pandas-Cookbook-Second-Edition/data/movie.csv')\n",
        "imdb_score = movies['imdb_score']\n",
        "imdb_score"
      ],
      "execution_count": null,
      "outputs": [
        {
          "output_type": "execute_result",
          "data": {
            "text/plain": [
              "0       7.9\n",
              "1       7.1\n",
              "2       6.8\n",
              "3       8.5\n",
              "4       7.1\n",
              "       ... \n",
              "4911    7.7\n",
              "4912    7.5\n",
              "4913    6.3\n",
              "4914    6.3\n",
              "4915    6.6\n",
              "Name: imdb_score, Length: 4916, dtype: float64"
            ]
          },
          "metadata": {},
          "execution_count": 8
        }
      ]
    },
    {
      "cell_type": "code",
      "metadata": {
        "id": "W-xRGPN0RnQj",
        "colab": {
          "base_uri": "https://localhost:8080/"
        },
        "outputId": "fd5ced15-7de4-4403-da34-fb0656c6def9"
      },
      "source": [
        "imdb_score = movies.imdb_score\n",
        "imdb_score"
      ],
      "execution_count": null,
      "outputs": [
        {
          "output_type": "execute_result",
          "data": {
            "text/plain": [
              "0       7.9\n",
              "1       7.1\n",
              "2       6.8\n",
              "3       8.5\n",
              "4       7.1\n",
              "       ... \n",
              "4911    7.7\n",
              "4912    7.5\n",
              "4913    6.3\n",
              "4914    6.3\n",
              "4915    6.6\n",
              "Name: imdb_score, Length: 4916, dtype: float64"
            ]
          },
          "metadata": {},
          "execution_count": 9
        }
      ]
    },
    {
      "cell_type": "code",
      "metadata": {
        "lines_to_next_cell": 2,
        "id": "L3wffSLnTrMC",
        "colab": {
          "base_uri": "https://localhost:8080/"
        },
        "outputId": "89868d1d-119c-4563-b63c-6a58574f90cb"
      },
      "source": [
        "imdb_score + 1"
      ],
      "execution_count": null,
      "outputs": [
        {
          "output_type": "execute_result",
          "data": {
            "text/plain": [
              "0       8.9\n",
              "1       8.1\n",
              "2       7.8\n",
              "3       9.5\n",
              "4       8.1\n",
              "       ... \n",
              "4911    8.7\n",
              "4912    8.5\n",
              "4913    7.3\n",
              "4914    7.3\n",
              "4915    7.6\n",
              "Name: imdb_score, Length: 4916, dtype: float64"
            ]
          },
          "metadata": {},
          "execution_count": 10
        }
      ]
    },
    {
      "cell_type": "code",
      "metadata": {
        "lines_to_next_cell": 2,
        "id": "X2VQfC09TrMD",
        "colab": {
          "base_uri": "https://localhost:8080/"
        },
        "outputId": "3967aee0-a2fe-4206-d5a2-a1e839775728"
      },
      "source": [
        "imdb_score * 2.5"
      ],
      "execution_count": null,
      "outputs": [
        {
          "output_type": "execute_result",
          "data": {
            "text/plain": [
              "0       19.75\n",
              "1       17.75\n",
              "2       17.00\n",
              "3       21.25\n",
              "4       17.75\n",
              "        ...  \n",
              "4911    19.25\n",
              "4912    18.75\n",
              "4913    15.75\n",
              "4914    15.75\n",
              "4915    16.50\n",
              "Name: imdb_score, Length: 4916, dtype: float64"
            ]
          },
          "metadata": {},
          "execution_count": 11
        }
      ]
    },
    {
      "cell_type": "code",
      "metadata": {
        "lines_to_next_cell": 2,
        "id": "ro2eH7G6TrMD",
        "colab": {
          "base_uri": "https://localhost:8080/"
        },
        "outputId": "bdb2312c-6ac2-4a49-80ff-c695c8edaa9e"
      },
      "source": [
        "imdb_score // 7"
      ],
      "execution_count": null,
      "outputs": [
        {
          "output_type": "execute_result",
          "data": {
            "text/plain": [
              "0       1.0\n",
              "1       1.0\n",
              "2       0.0\n",
              "3       1.0\n",
              "4       1.0\n",
              "       ... \n",
              "4911    1.0\n",
              "4912    1.0\n",
              "4913    0.0\n",
              "4914    0.0\n",
              "4915    0.0\n",
              "Name: imdb_score, Length: 4916, dtype: float64"
            ]
          },
          "metadata": {},
          "execution_count": 12
        }
      ]
    },
    {
      "cell_type": "code",
      "metadata": {
        "lines_to_next_cell": 2,
        "id": "Ljh-pgzfTrMD",
        "colab": {
          "base_uri": "https://localhost:8080/"
        },
        "outputId": "4416ea69-16fd-4650-c18f-89d0038716d0"
      },
      "source": [
        "imdb_score > 7"
      ],
      "execution_count": null,
      "outputs": [
        {
          "output_type": "execute_result",
          "data": {
            "text/plain": [
              "0        True\n",
              "1        True\n",
              "2       False\n",
              "3        True\n",
              "4        True\n",
              "        ...  \n",
              "4911     True\n",
              "4912     True\n",
              "4913    False\n",
              "4914    False\n",
              "4915    False\n",
              "Name: imdb_score, Length: 4916, dtype: bool"
            ]
          },
          "metadata": {},
          "execution_count": 13
        }
      ]
    },
    {
      "cell_type": "code",
      "metadata": {
        "lines_to_next_cell": 2,
        "id": "kHn5aQFdTrMD",
        "colab": {
          "base_uri": "https://localhost:8080/"
        },
        "outputId": "b42ccb37-44e8-4725-dbeb-7009bfcaefa7"
      },
      "source": [
        "director = movies['director_name']\n",
        "director == 'James Cameron'"
      ],
      "execution_count": null,
      "outputs": [
        {
          "output_type": "execute_result",
          "data": {
            "text/plain": [
              "0        True\n",
              "1       False\n",
              "2       False\n",
              "3       False\n",
              "4       False\n",
              "        ...  \n",
              "4911    False\n",
              "4912    False\n",
              "4913    False\n",
              "4914    False\n",
              "4915    False\n",
              "Name: director_name, Length: 4916, dtype: bool"
            ]
          },
          "metadata": {},
          "execution_count": 14
        }
      ]
    },
    {
      "cell_type": "code",
      "metadata": {
        "id": "g62YOhriSCwY",
        "colab": {
          "base_uri": "https://localhost:8080/"
        },
        "outputId": "8c901786-39f5-445f-e681-e8a0c5d91de8"
      },
      "source": [
        "director = movies.director_name\n",
        "director == 'James Cameron'"
      ],
      "execution_count": null,
      "outputs": [
        {
          "output_type": "execute_result",
          "data": {
            "text/plain": [
              "0        True\n",
              "1       False\n",
              "2       False\n",
              "3       False\n",
              "4       False\n",
              "        ...  \n",
              "4911    False\n",
              "4912    False\n",
              "4913    False\n",
              "4914    False\n",
              "4915    False\n",
              "Name: director_name, Length: 4916, dtype: bool"
            ]
          },
          "metadata": {},
          "execution_count": 16
        }
      ]
    },
    {
      "cell_type": "markdown",
      "metadata": {
        "id": "jpErz6OYTrMD"
      },
      "source": [
        "### How it works..."
      ]
    },
    {
      "cell_type": "code",
      "metadata": {
        "id": "7itM9ItpSAUb"
      },
      "source": [
        ""
      ],
      "execution_count": 2,
      "outputs": []
    },
    {
      "cell_type": "markdown",
      "metadata": {
        "id": "i1firM9oTrMD"
      },
      "source": [
        "### There's more..."
      ]
    },
    {
      "cell_type": "code",
      "metadata": {
        "lines_to_next_cell": 2,
        "id": "XuMgj8fyTrME",
        "colab": {
          "base_uri": "https://localhost:8080/"
        },
        "outputId": "0f744ed8-0430-4510-b719-940a2f851d16"
      },
      "source": [
        "imdb_score.add(1)   # imdb_score + 1"
      ],
      "execution_count": null,
      "outputs": [
        {
          "output_type": "execute_result",
          "data": {
            "text/plain": [
              "0       8.9\n",
              "1       8.1\n",
              "2       7.8\n",
              "3       9.5\n",
              "4       8.1\n",
              "       ... \n",
              "4911    8.7\n",
              "4912    8.5\n",
              "4913    7.3\n",
              "4914    7.3\n",
              "4915    7.6\n",
              "Name: imdb_score, Length: 4916, dtype: float64"
            ]
          },
          "metadata": {},
          "execution_count": 17
        }
      ]
    },
    {
      "cell_type": "code",
      "metadata": {
        "lines_to_next_cell": 2,
        "id": "vZ-mXIn2TrME",
        "colab": {
          "base_uri": "https://localhost:8080/"
        },
        "outputId": "690e6e8d-1fb0-44ad-c4db-cfa895ef8a00"
      },
      "source": [
        "imdb_score.gt(7)   # imdb_score > 7"
      ],
      "execution_count": null,
      "outputs": [
        {
          "output_type": "execute_result",
          "data": {
            "text/plain": [
              "0        True\n",
              "1        True\n",
              "2       False\n",
              "3        True\n",
              "4        True\n",
              "        ...  \n",
              "4911     True\n",
              "4912     True\n",
              "4913    False\n",
              "4914    False\n",
              "4915    False\n",
              "Name: imdb_score, Length: 4916, dtype: bool"
            ]
          },
          "metadata": {},
          "execution_count": 18
        }
      ]
    },
    {
      "cell_type": "markdown",
      "metadata": {
        "id": "6dstQJBATrME"
      },
      "source": [
        "### See also"
      ]
    },
    {
      "cell_type": "markdown",
      "metadata": {
        "id": "Ymq6P1blTrME"
      },
      "source": [
        "## Chaining Series Methods 10/27"
      ]
    },
    {
      "cell_type": "markdown",
      "metadata": {
        "id": "p-mR0neMTrME"
      },
      "source": [
        "### How to do it... {#how-to-do-it-6}"
      ]
    },
    {
      "cell_type": "code",
      "metadata": {
        "lines_to_next_cell": 2,
        "id": "w_n2d0PuTrME"
      },
      "source": [
        "movies = pd.read_csv('/content/drive/MyDrive/ColabNotebooks/Pandas-Cookbook-Second-Edition/data/movie.csv')\n",
        "fb_likes = movies['actor_1_facebook_likes']\n",
        "director = movies['director_name']"
      ],
      "execution_count": 3,
      "outputs": []
    },
    {
      "cell_type": "code",
      "metadata": {
        "id": "L4P3RX46J82e"
      },
      "source": [
        "fb_likes_2 = movies.actor_1_facebook_likes\n",
        "director_2 = movies.director_name"
      ],
      "execution_count": 5,
      "outputs": []
    },
    {
      "cell_type": "code",
      "metadata": {
        "lines_to_next_cell": 2,
        "id": "MttAER_ITrMF",
        "outputId": "8ba9cedf-474a-4a1c-e5e7-4bfd5f6009f0",
        "colab": {
          "base_uri": "https://localhost:8080/"
        }
      },
      "source": [
        "director.value_counts().head(3)"
      ],
      "execution_count": 4,
      "outputs": [
        {
          "output_type": "execute_result",
          "data": {
            "text/plain": [
              "Steven Spielberg    26\n",
              "Woody Allen         22\n",
              "Martin Scorsese     20\n",
              "Name: director_name, dtype: int64"
            ]
          },
          "metadata": {},
          "execution_count": 4
        }
      ]
    },
    {
      "cell_type": "code",
      "metadata": {
        "id": "D9gYKJXPKJkB",
        "outputId": "06233756-fb3b-4c9b-feb0-1fe33c0a8f08",
        "colab": {
          "base_uri": "https://localhost:8080/"
        }
      },
      "source": [
        "director_2.value_counts()"
      ],
      "execution_count": 7,
      "outputs": [
        {
          "output_type": "execute_result",
          "data": {
            "text/plain": [
              "Steven Spielberg      26\n",
              "Woody Allen           22\n",
              "Martin Scorsese       20\n",
              "Clint Eastwood        20\n",
              "Spike Lee             16\n",
              "                      ..\n",
              "Martin Lawrence        1\n",
              "Sam Martin             1\n",
              "Vicky Jenson           1\n",
              "Jamaa Fanaka           1\n",
              "Álex de la Iglesia     1\n",
              "Name: director_name, Length: 2397, dtype: int64"
            ]
          },
          "metadata": {},
          "execution_count": 7
        }
      ]
    },
    {
      "cell_type": "code",
      "metadata": {
        "lines_to_next_cell": 2,
        "id": "63pXuBTzTrMF",
        "outputId": "5d612959-bf6d-4ecc-bd62-6d956402abf2",
        "colab": {
          "base_uri": "https://localhost:8080/"
        }
      },
      "source": [
        "fb_likes.isna().sum()"
      ],
      "execution_count": 8,
      "outputs": [
        {
          "output_type": "execute_result",
          "data": {
            "text/plain": [
              "7"
            ]
          },
          "metadata": {},
          "execution_count": 8
        }
      ]
    },
    {
      "cell_type": "code",
      "metadata": {
        "id": "9md4F_6iKZpG",
        "outputId": "dcd46346-6745-4d1c-83d7-f2644dfd07ca",
        "colab": {
          "base_uri": "https://localhost:8080/"
        }
      },
      "source": [
        "fb_likes_2.isna()"
      ],
      "execution_count": 9,
      "outputs": [
        {
          "output_type": "execute_result",
          "data": {
            "text/plain": [
              "0       False\n",
              "1       False\n",
              "2       False\n",
              "3       False\n",
              "4       False\n",
              "        ...  \n",
              "4911    False\n",
              "4912    False\n",
              "4913    False\n",
              "4914    False\n",
              "4915    False\n",
              "Name: actor_1_facebook_likes, Length: 4916, dtype: bool"
            ]
          },
          "metadata": {},
          "execution_count": 9
        }
      ]
    },
    {
      "cell_type": "code",
      "metadata": {
        "lines_to_next_cell": 2,
        "id": "mhgNxoBKTrMG",
        "outputId": "1a190628-860e-4153-d8db-fb1676eca1a5",
        "colab": {
          "base_uri": "https://localhost:8080/"
        }
      },
      "source": [
        "fb_likes.dtype"
      ],
      "execution_count": 10,
      "outputs": [
        {
          "output_type": "execute_result",
          "data": {
            "text/plain": [
              "dtype('float64')"
            ]
          },
          "metadata": {},
          "execution_count": 10
        }
      ]
    },
    {
      "cell_type": "code",
      "metadata": {
        "lines_to_next_cell": 2,
        "id": "fOpwMCfBTrMH"
      },
      "source": [
        "(fb_likes.fillna(0)\n",
        "         .astype(int)\n",
        "         .head()\n",
        ")"
      ],
      "execution_count": null,
      "outputs": []
    },
    {
      "cell_type": "markdown",
      "metadata": {
        "id": "K_cL4a2QTrMH"
      },
      "source": [
        "### How it works...10/28"
      ]
    },
    {
      "cell_type": "markdown",
      "metadata": {
        "id": "zGt7T98oTrMH"
      },
      "source": [
        "### There's more..."
      ]
    },
    {
      "cell_type": "code",
      "metadata": {
        "lines_to_next_cell": 2,
        "id": "MxljI2tiTrMH"
      },
      "source": [
        "(fb_likes.fillna(0)\n",
        "         #.astype(int)\n",
        "         #.head()\n",
        ")"
      ],
      "execution_count": null,
      "outputs": []
    },
    {
      "cell_type": "code",
      "metadata": {
        "lines_to_next_cell": 2,
        "id": "1gFCqSUbTrMI"
      },
      "source": [
        "(fb_likes.fillna(0)\n",
        "         .astype(int)\n",
        "         #.head()\n",
        ")"
      ],
      "execution_count": null,
      "outputs": []
    },
    {
      "cell_type": "code",
      "metadata": {
        "lines_to_next_cell": 2,
        "id": "iVn5p0ItTrMI"
      },
      "source": [
        "fb_likes.isna().mean()"
      ],
      "execution_count": null,
      "outputs": []
    },
    {
      "cell_type": "code",
      "metadata": {
        "id": "fJaVoxJ3TrMI"
      },
      "source": [
        "fb_likes.fillna(0) \\\n",
        "        .astype(int) \\\n",
        "        .head()"
      ],
      "execution_count": null,
      "outputs": []
    },
    {
      "cell_type": "code",
      "metadata": {
        "id": "Bw0miOUPTrMI"
      },
      "source": [
        "def debug_df(df):\n",
        "    print(\"BEFORE\")\n",
        "    print(df)\n",
        "    print(\"AFTER\")\n",
        "    return df"
      ],
      "execution_count": null,
      "outputs": []
    },
    {
      "cell_type": "code",
      "metadata": {
        "lines_to_next_cell": 2,
        "id": "NUwN0gTGTrMI"
      },
      "source": [
        "(fb_likes.fillna(0)\n",
        "         .pipe(debug_df)\n",
        "         .astype(int) \n",
        "         .head()\n",
        ")"
      ],
      "execution_count": null,
      "outputs": []
    },
    {
      "cell_type": "code",
      "metadata": {
        "id": "Vg_EcGeUTrMJ"
      },
      "source": [
        "intermediate = None\n",
        "def get_intermediate(df):\n",
        "    global intermediate\n",
        "    intermediate = df\n",
        "    return df"
      ],
      "execution_count": null,
      "outputs": []
    },
    {
      "cell_type": "code",
      "metadata": {
        "lines_to_next_cell": 2,
        "id": "Az0JCavOTrMJ"
      },
      "source": [
        "res = (fb_likes.fillna(0)\n",
        "         .pipe(get_intermediate)\n",
        "         .astype(int) \n",
        "         .head()\n",
        ")"
      ],
      "execution_count": null,
      "outputs": []
    },
    {
      "cell_type": "code",
      "metadata": {
        "lines_to_next_cell": 2,
        "id": "6yzu_mXOTrMJ"
      },
      "source": [
        "intermediate"
      ],
      "execution_count": null,
      "outputs": []
    },
    {
      "cell_type": "markdown",
      "metadata": {
        "id": "igLmqPlSTrMJ"
      },
      "source": [
        "## Renaming Column Names"
      ]
    },
    {
      "cell_type": "markdown",
      "metadata": {
        "id": "KedYrcLVTrMJ"
      },
      "source": [
        "### How to do it..."
      ]
    },
    {
      "cell_type": "code",
      "metadata": {
        "lines_to_next_cell": 2,
        "id": "YGzfw8-DTrMJ"
      },
      "source": [
        "movies = pd.read_csv('data/movie.csv')"
      ],
      "execution_count": null,
      "outputs": []
    },
    {
      "cell_type": "code",
      "metadata": {
        "lines_to_next_cell": 2,
        "id": "mL6wIIFtTrMK"
      },
      "source": [
        "col_map = {'director_name':'Director Name', \n",
        "             'num_critic_for_reviews': 'Critical Reviews'} "
      ],
      "execution_count": null,
      "outputs": []
    },
    {
      "cell_type": "code",
      "metadata": {
        "lines_to_next_cell": 2,
        "id": "ZJCgJSPHTrMK"
      },
      "source": [
        "movies.rename(columns=col_map).head()"
      ],
      "execution_count": null,
      "outputs": []
    },
    {
      "cell_type": "markdown",
      "metadata": {
        "id": "-LZmVDnwTrMK"
      },
      "source": [
        "### How it works... {#how-it-works-8}"
      ]
    },
    {
      "cell_type": "markdown",
      "metadata": {
        "id": "E813wEuiTrMK"
      },
      "source": [
        "### There's more {#theres-more-7}"
      ]
    },
    {
      "cell_type": "code",
      "metadata": {
        "lines_to_next_cell": 2,
        "id": "sYYSUInYTrMK"
      },
      "source": [
        "idx_map = {'Avatar':'Ratava', 'Spectre': 'Ertceps',\n",
        "  \"Pirates of the Caribbean: At World's End\": 'POC'}\n",
        "col_map = {'aspect_ratio': 'aspect',\n",
        "  \"movie_facebook_likes\": 'fblikes'}\n",
        "(movies\n",
        "   .set_index('movie_title')\n",
        "   .rename(index=idx_map, columns=col_map)\n",
        "   .head(3)\n",
        ")"
      ],
      "execution_count": null,
      "outputs": []
    },
    {
      "cell_type": "code",
      "metadata": {
        "lines_to_next_cell": 2,
        "id": "2Q6D4WL8TrMK"
      },
      "source": [
        "movies = pd.read_csv('data/movie.csv', index_col='movie_title')\n",
        "ids = movies.index.tolist()\n",
        "columns = movies.columns.tolist()"
      ],
      "execution_count": null,
      "outputs": []
    },
    {
      "cell_type": "markdown",
      "metadata": {
        "id": "z0NpwazsTrMK"
      },
      "source": [
        "# rename the row and column labels with list assignments"
      ]
    },
    {
      "cell_type": "code",
      "metadata": {
        "lines_to_next_cell": 2,
        "id": "GBt1wMdhTrML"
      },
      "source": [
        "ids[0] = 'Ratava'\n",
        "ids[1] = 'POC'\n",
        "ids[2] = 'Ertceps'\n",
        "columns[1] = 'director'\n",
        "columns[-2] = 'aspect'\n",
        "columns[-1] = 'fblikes'\n",
        "movies.index = ids\n",
        "movies.columns = columns"
      ],
      "execution_count": null,
      "outputs": []
    },
    {
      "cell_type": "code",
      "metadata": {
        "id": "oPoklgTkTrML"
      },
      "source": [
        "movies.head(3)"
      ],
      "execution_count": null,
      "outputs": []
    },
    {
      "cell_type": "code",
      "metadata": {
        "id": "dHGvOyDvTrML"
      },
      "source": [
        "def to_clean(val):\n",
        "    return val.strip().lower().replace(' ', '_')"
      ],
      "execution_count": null,
      "outputs": []
    },
    {
      "cell_type": "code",
      "metadata": {
        "lines_to_next_cell": 2,
        "id": "YFTuhZYMTrML"
      },
      "source": [
        "movies.rename(columns=to_clean).head(3)"
      ],
      "execution_count": null,
      "outputs": []
    },
    {
      "cell_type": "code",
      "metadata": {
        "lines_to_next_cell": 2,
        "id": "3xBPO-p6TrML"
      },
      "source": [
        "cols = [col.strip().lower().replace(' ', '_')\n",
        "        for col in movies.columns]\n",
        "movies.columns = cols\n",
        "movies.head(3)"
      ],
      "execution_count": null,
      "outputs": []
    },
    {
      "cell_type": "markdown",
      "metadata": {
        "id": "kLD8W0rUTrML"
      },
      "source": [
        "## Creating and Deleting columns"
      ]
    },
    {
      "cell_type": "markdown",
      "metadata": {
        "id": "VcPBJHttTrML"
      },
      "source": [
        "### How to do it... {#how-to-do-it-9}"
      ]
    },
    {
      "cell_type": "code",
      "metadata": {
        "lines_to_next_cell": 2,
        "id": "JsKq2J3STrMM"
      },
      "source": [
        "movies = pd.read_csv('data/movie.csv')\n",
        "movies['has_seen'] = 0"
      ],
      "execution_count": null,
      "outputs": []
    },
    {
      "cell_type": "code",
      "metadata": {
        "lines_to_next_cell": 2,
        "id": "1gvQeohRTrMM"
      },
      "source": [
        "idx_map = {'Avatar':'Ratava', 'Spectre': 'Ertceps',\n",
        "  \"Pirates of the Caribbean: At World's End\": 'POC'}\n",
        "col_map = {'aspect_ratio': 'aspect',\n",
        "  \"movie_facebook_likes\": 'fblikes'}\n",
        "(movies\n",
        "   .rename(index=idx_map, columns=col_map)\n",
        "   .assign(has_seen=0)\n",
        ")"
      ],
      "execution_count": null,
      "outputs": []
    },
    {
      "cell_type": "code",
      "metadata": {
        "lines_to_next_cell": 2,
        "id": "gqHTBPmxTrMM"
      },
      "source": [
        "total = (movies['actor_1_facebook_likes'] +\n",
        "         movies['actor_2_facebook_likes'] + \n",
        "         movies['actor_3_facebook_likes'] + \n",
        "         movies['director_facebook_likes'])"
      ],
      "execution_count": null,
      "outputs": []
    },
    {
      "cell_type": "code",
      "metadata": {
        "lines_to_next_cell": 2,
        "id": "CBopuc7OTrMM"
      },
      "source": [
        "total.head(5)"
      ],
      "execution_count": null,
      "outputs": []
    },
    {
      "cell_type": "code",
      "metadata": {
        "lines_to_next_cell": 2,
        "id": "e9Q2d5P2TrMM"
      },
      "source": [
        "cols = ['actor_1_facebook_likes','actor_2_facebook_likes',\n",
        "    'actor_3_facebook_likes','director_facebook_likes']\n",
        "sum_col = movies[cols].sum(axis='columns')\n",
        "sum_col.head(5)"
      ],
      "execution_count": null,
      "outputs": []
    },
    {
      "cell_type": "code",
      "metadata": {
        "id": "RtpZ7eobTrMM"
      },
      "source": [
        "movies.assign(total_likes=sum_col).head(5)"
      ],
      "execution_count": null,
      "outputs": []
    },
    {
      "cell_type": "code",
      "metadata": {
        "id": "afM7ZDv_TrMN"
      },
      "source": [
        "def sum_likes(df):\n",
        "   return df[[c for c in df.columns\n",
        "              if 'like' in c]].sum(axis=1)"
      ],
      "execution_count": null,
      "outputs": []
    },
    {
      "cell_type": "code",
      "metadata": {
        "lines_to_next_cell": 2,
        "id": "VK_-2MO4TrMN"
      },
      "source": [
        "movies.assign(total_likes=sum_likes).head(5)"
      ],
      "execution_count": null,
      "outputs": []
    },
    {
      "cell_type": "code",
      "metadata": {
        "lines_to_next_cell": 2,
        "id": "lxbMrH00TrMN"
      },
      "source": [
        "(movies\n",
        "   .assign(total_likes=sum_col)\n",
        "   ['total_likes']\n",
        "   .isna()\n",
        "   .sum()\n",
        ")"
      ],
      "execution_count": null,
      "outputs": []
    },
    {
      "cell_type": "code",
      "metadata": {
        "lines_to_next_cell": 2,
        "id": "1VAjVPmoTrMN"
      },
      "source": [
        "(movies\n",
        "   .assign(total_likes=total)\n",
        "   ['total_likes']\n",
        "   .isna()\n",
        "   .sum()\n",
        ")"
      ],
      "execution_count": null,
      "outputs": []
    },
    {
      "cell_type": "code",
      "metadata": {
        "id": "I5BqftoETrMN"
      },
      "source": [
        "(movies\n",
        "   .assign(total_likes=total.fillna(0))\n",
        "   ['total_likes']\n",
        "   .isna()\n",
        "   .sum()\n",
        ")"
      ],
      "execution_count": null,
      "outputs": []
    },
    {
      "cell_type": "code",
      "metadata": {
        "id": "c0378-ARTrMN"
      },
      "source": [
        "def cast_like_gt_actor_director(df):\n",
        "    return df['cast_total_facebook_likes'] >= \\\n",
        "           df['total_likes']"
      ],
      "execution_count": null,
      "outputs": []
    },
    {
      "cell_type": "code",
      "metadata": {
        "lines_to_next_cell": 2,
        "id": "aIkrY2rzTrMO"
      },
      "source": [
        "df2 = (movies\n",
        "   .assign(total_likes=total,\n",
        "           is_cast_likes_more = cast_like_gt_actor_director)\n",
        ")"
      ],
      "execution_count": null,
      "outputs": []
    },
    {
      "cell_type": "code",
      "metadata": {
        "lines_to_next_cell": 2,
        "id": "ZqQ7Drm1TrMO"
      },
      "source": [
        "df2['is_cast_likes_more'].all()"
      ],
      "execution_count": null,
      "outputs": []
    },
    {
      "cell_type": "code",
      "metadata": {
        "lines_to_next_cell": 2,
        "id": "eT-ufHhaTrMO"
      },
      "source": [
        "df2 = df2.drop(columns='total_likes')"
      ],
      "execution_count": null,
      "outputs": []
    },
    {
      "cell_type": "code",
      "metadata": {
        "lines_to_next_cell": 2,
        "id": "msxFEmqOTrMO"
      },
      "source": [
        "actor_sum = (movies\n",
        "   [[c for c in movies.columns if 'actor_' in c and '_likes' in c]]\n",
        "   .sum(axis='columns')\n",
        ")"
      ],
      "execution_count": null,
      "outputs": []
    },
    {
      "cell_type": "code",
      "metadata": {
        "lines_to_next_cell": 2,
        "id": "35bBnXeUTrMP"
      },
      "source": [
        "actor_sum.head(5)"
      ],
      "execution_count": null,
      "outputs": []
    },
    {
      "cell_type": "code",
      "metadata": {
        "lines_to_next_cell": 2,
        "id": "3W_8GWWwTrMP"
      },
      "source": [
        "movies['cast_total_facebook_likes'] >= actor_sum"
      ],
      "execution_count": null,
      "outputs": []
    },
    {
      "cell_type": "code",
      "metadata": {
        "lines_to_next_cell": 2,
        "id": "Mmy3xAnZTrMP"
      },
      "source": [
        "movies['cast_total_facebook_likes'].ge(actor_sum)"
      ],
      "execution_count": null,
      "outputs": []
    },
    {
      "cell_type": "code",
      "metadata": {
        "lines_to_next_cell": 2,
        "id": "UwnmaBn2TrMP"
      },
      "source": [
        "movies['cast_total_facebook_likes'].ge(actor_sum).all()"
      ],
      "execution_count": null,
      "outputs": []
    },
    {
      "cell_type": "code",
      "metadata": {
        "lines_to_next_cell": 2,
        "id": "iL-maBUXTrMP"
      },
      "source": [
        "pct_like = (actor_sum\n",
        "    .div(movies['cast_total_facebook_likes'])\n",
        ")"
      ],
      "execution_count": null,
      "outputs": []
    },
    {
      "cell_type": "code",
      "metadata": {
        "lines_to_next_cell": 2,
        "id": "J-NSmNUNTrMP"
      },
      "source": [
        "pct_like.describe()"
      ],
      "execution_count": null,
      "outputs": []
    },
    {
      "cell_type": "code",
      "metadata": {
        "lines_to_next_cell": 2,
        "id": "J7HU9LFGTrMP"
      },
      "source": [
        "pd.Series(pct_like.values,\n",
        "    index=movies['movie_title'].values).head()"
      ],
      "execution_count": null,
      "outputs": []
    },
    {
      "cell_type": "markdown",
      "metadata": {
        "id": "DK2RrMo7TrMQ"
      },
      "source": [
        "### How it works... {#how-it-works-9}"
      ]
    },
    {
      "cell_type": "markdown",
      "metadata": {
        "id": "vQOVCntmTrMQ"
      },
      "source": [
        "### There's more... {#theres-more-8}"
      ]
    },
    {
      "cell_type": "code",
      "metadata": {
        "lines_to_next_cell": 2,
        "id": "KtK3c7z3TrMQ"
      },
      "source": [
        "profit_index = movies.columns.get_loc('gross') + 1\n",
        "profit_index"
      ],
      "execution_count": null,
      "outputs": []
    },
    {
      "cell_type": "code",
      "metadata": {
        "lines_to_next_cell": 2,
        "id": "BCidFO0JTrMQ"
      },
      "source": [
        "movies.insert(loc=profit_index,\n",
        "              column='profit',\n",
        "              value=movies['gross'] - movies['budget'])"
      ],
      "execution_count": null,
      "outputs": []
    },
    {
      "cell_type": "code",
      "metadata": {
        "lines_to_next_cell": 2,
        "id": "Hu-vx0q3TrMQ"
      },
      "source": [
        "del movies['director_name']"
      ],
      "execution_count": null,
      "outputs": []
    },
    {
      "cell_type": "markdown",
      "metadata": {
        "lines_to_next_cell": 2,
        "id": "hHJNMlM7TrMQ"
      },
      "source": [
        "### See also"
      ]
    }
  ]
}