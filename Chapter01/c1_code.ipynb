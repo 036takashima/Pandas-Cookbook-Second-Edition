{
  "nbformat": 4,
  "nbformat_minor": 0,
  "metadata": {
    "jupytext": {
      "cell_metadata_filter": "-all",
      "main_language": "python",
      "notebook_metadata_filter": "-all"
    },
    "colab": {
      "name": "c1_code.ipynb",
      "provenance": [],
      "include_colab_link": true
    },
    "language_info": {
      "name": "python"
    },
    "kernelspec": {
      "name": "python3",
      "display_name": "Python 3"
    },
    "accelerator": "TPU"
  },
  "cells": [
    {
      "cell_type": "markdown",
      "metadata": {
        "id": "view-in-github",
        "colab_type": "text"
      },
      "source": [
        "<a href=\"https://colab.research.google.com/github/036takashima/Pandas-Cookbook-Second-Edition/blob/master/Chapter01/c1_code.ipynb\" target=\"_parent\"><img src=\"https://colab.research.google.com/assets/colab-badge.svg\" alt=\"Open In Colab\"/></a>"
      ]
    },
    {
      "cell_type": "markdown",
      "metadata": {
        "id": "niyjGB02TrLa"
      },
      "source": [
        "# Chapter 1: Pandas Foundations"
      ]
    },
    {
      "cell_type": "code",
      "metadata": {
        "lines_to_next_cell": 2,
        "id": "sKCmGwz3TrLj"
      },
      "source": [
        "import pandas as pd\n",
        "import numpy as np"
      ],
      "execution_count": 2,
      "outputs": []
    },
    {
      "cell_type": "markdown",
      "metadata": {
        "id": "ShL-lLQUTrLm"
      },
      "source": [
        "## Introduction"
      ]
    },
    {
      "cell_type": "code",
      "metadata": {
        "colab": {
          "base_uri": "https://localhost:8080/"
        },
        "id": "25TRXvMRWWWL",
        "outputId": "526c9106-4947-4c9e-c9f3-a8fea855722a"
      },
      "source": [
        "from google.colab import drive\n",
        "drive.mount('/content/drive')"
      ],
      "execution_count": 3,
      "outputs": [
        {
          "output_type": "stream",
          "name": "stdout",
          "text": [
            "Mounted at /content/drive\n"
          ]
        }
      ]
    },
    {
      "cell_type": "markdown",
      "metadata": {
        "id": "bcuDGCJ2TrLn"
      },
      "source": [
        "## Dissecting the anatomy of a DataFrame"
      ]
    },
    {
      "cell_type": "code",
      "metadata": {
        "id": "yLgkebxEXapO"
      },
      "source": [
        "pd.set_option('max_columns', 4, 'max_rows', 10)"
      ],
      "execution_count": 4,
      "outputs": []
    },
    {
      "cell_type": "markdown",
      "metadata": {
        "id": "auGp6ECuXsag"
      },
      "source": [
        "/dataのありかは以下の通り\n",
        "\n",
        "/content/drive/MyDrive/ColabNotebooks/Pandas-Cookbook-Second-Edition/data/"
      ]
    },
    {
      "cell_type": "code",
      "metadata": {
        "colab": {
          "base_uri": "https://localhost:8080/",
          "height": 232
        },
        "id": "MOYuAjysYKiQ",
        "outputId": "cb032c55-5231-4b2f-9a7b-59b18ce90795"
      },
      "source": [
        "movies = pd.read_csv('/content/drive/MyDrive/ColabNotebooks/Pandas-Cookbook-Second-Edition/data/movie.csv')\n",
        "movies.head()"
      ],
      "execution_count": 6,
      "outputs": [
        {
          "output_type": "execute_result",
          "data": {
            "text/html": [
              "<div>\n",
              "<style scoped>\n",
              "    .dataframe tbody tr th:only-of-type {\n",
              "        vertical-align: middle;\n",
              "    }\n",
              "\n",
              "    .dataframe tbody tr th {\n",
              "        vertical-align: top;\n",
              "    }\n",
              "\n",
              "    .dataframe thead th {\n",
              "        text-align: right;\n",
              "    }\n",
              "</style>\n",
              "<table border=\"1\" class=\"dataframe\">\n",
              "  <thead>\n",
              "    <tr style=\"text-align: right;\">\n",
              "      <th></th>\n",
              "      <th>color</th>\n",
              "      <th>director_name</th>\n",
              "      <th>...</th>\n",
              "      <th>aspect_ratio</th>\n",
              "      <th>movie_facebook_likes</th>\n",
              "    </tr>\n",
              "  </thead>\n",
              "  <tbody>\n",
              "    <tr>\n",
              "      <th>0</th>\n",
              "      <td>Color</td>\n",
              "      <td>James Cameron</td>\n",
              "      <td>...</td>\n",
              "      <td>1.78</td>\n",
              "      <td>33000</td>\n",
              "    </tr>\n",
              "    <tr>\n",
              "      <th>1</th>\n",
              "      <td>Color</td>\n",
              "      <td>Gore Verbinski</td>\n",
              "      <td>...</td>\n",
              "      <td>2.35</td>\n",
              "      <td>0</td>\n",
              "    </tr>\n",
              "    <tr>\n",
              "      <th>2</th>\n",
              "      <td>Color</td>\n",
              "      <td>Sam Mendes</td>\n",
              "      <td>...</td>\n",
              "      <td>2.35</td>\n",
              "      <td>85000</td>\n",
              "    </tr>\n",
              "    <tr>\n",
              "      <th>3</th>\n",
              "      <td>Color</td>\n",
              "      <td>Christopher Nolan</td>\n",
              "      <td>...</td>\n",
              "      <td>2.35</td>\n",
              "      <td>164000</td>\n",
              "    </tr>\n",
              "    <tr>\n",
              "      <th>4</th>\n",
              "      <td>NaN</td>\n",
              "      <td>Doug Walker</td>\n",
              "      <td>...</td>\n",
              "      <td>NaN</td>\n",
              "      <td>0</td>\n",
              "    </tr>\n",
              "  </tbody>\n",
              "</table>\n",
              "<p>5 rows × 28 columns</p>\n",
              "</div>"
            ],
            "text/plain": [
              "   color      director_name  ...  aspect_ratio  movie_facebook_likes\n",
              "0  Color      James Cameron  ...          1.78                 33000\n",
              "1  Color     Gore Verbinski  ...          2.35                     0\n",
              "2  Color         Sam Mendes  ...          2.35                 85000\n",
              "3  Color  Christopher Nolan  ...          2.35                164000\n",
              "4    NaN        Doug Walker  ...           NaN                     0\n",
              "\n",
              "[5 rows x 28 columns]"
            ]
          },
          "metadata": {},
          "execution_count": 6
        }
      ]
    },
    {
      "cell_type": "markdown",
      "metadata": {
        "id": "MawwfAZSTrLq"
      },
      "source": [
        "### How it works..."
      ]
    },
    {
      "cell_type": "markdown",
      "metadata": {
        "id": "H_HkShZCTrLs"
      },
      "source": [
        "## DataFrame Attributes"
      ]
    },
    {
      "cell_type": "markdown",
      "metadata": {
        "id": "LLR8DHDmTrLt"
      },
      "source": [
        "### How to do it... {#how-to-do-it-1}"
      ]
    },
    {
      "cell_type": "code",
      "metadata": {
        "id": "CQX8r79dtkEv"
      },
      "source": [
        "movies = pd.read_csv('/content/drive/MyDrive/ColabNotebooks/Pandas-Cookbook-Second-Edition/data/movie.csv')\n",
        "columns = movies.columns\n",
        "index  =movies.index\n",
        "data = movies.values"
      ],
      "execution_count": 7,
      "outputs": []
    },
    {
      "cell_type": "code",
      "metadata": {
        "colab": {
          "base_uri": "https://localhost:8080/"
        },
        "id": "YiQGpnpUt7z4",
        "outputId": "7b11ae76-727e-4390-9085-caceed988719"
      },
      "source": [
        "columns"
      ],
      "execution_count": 8,
      "outputs": [
        {
          "output_type": "execute_result",
          "data": {
            "text/plain": [
              "Index(['color', 'director_name', 'num_critic_for_reviews', 'duration',\n",
              "       'director_facebook_likes', 'actor_3_facebook_likes', 'actor_2_name',\n",
              "       'actor_1_facebook_likes', 'gross', 'genres', 'actor_1_name',\n",
              "       'movie_title', 'num_voted_users', 'cast_total_facebook_likes',\n",
              "       'actor_3_name', 'facenumber_in_poster', 'plot_keywords',\n",
              "       'movie_imdb_link', 'num_user_for_reviews', 'language', 'country',\n",
              "       'content_rating', 'budget', 'title_year', 'actor_2_facebook_likes',\n",
              "       'imdb_score', 'aspect_ratio', 'movie_facebook_likes'],\n",
              "      dtype='object')"
            ]
          },
          "metadata": {},
          "execution_count": 8
        }
      ]
    },
    {
      "cell_type": "code",
      "metadata": {
        "colab": {
          "base_uri": "https://localhost:8080/"
        },
        "id": "bzmhkUhaumOZ",
        "outputId": "dd0787a2-3020-4aeb-fbb7-f3800f81741d"
      },
      "source": [
        "index"
      ],
      "execution_count": 9,
      "outputs": [
        {
          "output_type": "execute_result",
          "data": {
            "text/plain": [
              "RangeIndex(start=0, stop=4916, step=1)"
            ]
          },
          "metadata": {},
          "execution_count": 9
        }
      ]
    },
    {
      "cell_type": "code",
      "metadata": {
        "colab": {
          "base_uri": "https://localhost:8080/"
        },
        "id": "fAe4U8nquq40",
        "outputId": "4f9e7b94-ec2c-40a1-b7f1-b2b84ea82eb7"
      },
      "source": [
        "data"
      ],
      "execution_count": 10,
      "outputs": [
        {
          "output_type": "execute_result",
          "data": {
            "text/plain": [
              "array([['Color', 'James Cameron', 723.0, ..., 7.9, 1.78, 33000],\n",
              "       ['Color', 'Gore Verbinski', 302.0, ..., 7.1, 2.35, 0],\n",
              "       ['Color', 'Sam Mendes', 602.0, ..., 6.8, 2.35, 85000],\n",
              "       ...,\n",
              "       ['Color', 'Benjamin Roberds', 13.0, ..., 6.3, nan, 16],\n",
              "       ['Color', 'Daniel Hsia', 14.0, ..., 6.3, 2.35, 660],\n",
              "       ['Color', 'Jon Gunn', 43.0, ..., 6.6, 1.85, 456]], dtype=object)"
            ]
          },
          "metadata": {},
          "execution_count": 10
        }
      ]
    },
    {
      "cell_type": "code",
      "metadata": {
        "colab": {
          "base_uri": "https://localhost:8080/"
        },
        "id": "_dAn0YMBv-Oq",
        "outputId": "9fe7ff8d-56a7-450e-ff5f-ae5eafd04f53"
      },
      "source": [
        "type(index)"
      ],
      "execution_count": 11,
      "outputs": [
        {
          "output_type": "execute_result",
          "data": {
            "text/plain": [
              "pandas.core.indexes.range.RangeIndex"
            ]
          },
          "metadata": {},
          "execution_count": 11
        }
      ]
    },
    {
      "cell_type": "code",
      "metadata": {
        "colab": {
          "base_uri": "https://localhost:8080/"
        },
        "id": "EzDgXxTgwOw_",
        "outputId": "aeae2a26-b5a0-4c91-c294-f7ef4db3e49c"
      },
      "source": [
        "type(columns)"
      ],
      "execution_count": 12,
      "outputs": [
        {
          "output_type": "execute_result",
          "data": {
            "text/plain": [
              "pandas.core.indexes.base.Index"
            ]
          },
          "metadata": {},
          "execution_count": 12
        }
      ]
    },
    {
      "cell_type": "code",
      "metadata": {
        "colab": {
          "base_uri": "https://localhost:8080/"
        },
        "id": "nufJ3cwWwoKh",
        "outputId": "3bed2cd6-2934-4a1f-a21b-2cf5d1e713f0"
      },
      "source": [
        "type(data)"
      ],
      "execution_count": 13,
      "outputs": [
        {
          "output_type": "execute_result",
          "data": {
            "text/plain": [
              "numpy.ndarray"
            ]
          },
          "metadata": {},
          "execution_count": 13
        }
      ]
    },
    {
      "cell_type": "code",
      "metadata": {
        "colab": {
          "base_uri": "https://localhost:8080/"
        },
        "id": "ikvSsRHVw-Wz",
        "outputId": "0f977a54-a089-4111-ad31-e247e20070bd"
      },
      "source": [
        "issubclass(pd.RangeIndex, pd.Index)"
      ],
      "execution_count": 14,
      "outputs": [
        {
          "output_type": "execute_result",
          "data": {
            "text/plain": [
              "True"
            ]
          },
          "metadata": {},
          "execution_count": 14
        }
      ]
    },
    {
      "cell_type": "code",
      "metadata": {
        "colab": {
          "base_uri": "https://localhost:8080/"
        },
        "id": "QgOleHNExJji",
        "outputId": "38d08d70-51eb-4e37-eea0-3d49b6058ce3"
      },
      "source": [
        "issubclass(columns.__class__, pd.Index)"
      ],
      "execution_count": 15,
      "outputs": [
        {
          "output_type": "execute_result",
          "data": {
            "text/plain": [
              "True"
            ]
          },
          "metadata": {},
          "execution_count": 15
        }
      ]
    },
    {
      "cell_type": "markdown",
      "metadata": {
        "id": "qtf40jVxTrLy"
      },
      "source": [
        "### How it works..."
      ]
    },
    {
      "cell_type": "markdown",
      "metadata": {
        "id": "n0y6G93xTrLz"
      },
      "source": [
        "### There's more"
      ]
    },
    {
      "cell_type": "code",
      "metadata": {
        "lines_to_next_cell": 2,
        "id": "5ltg2fQ1TrLz",
        "colab": {
          "base_uri": "https://localhost:8080/"
        },
        "outputId": "55fcd739-6450-4d93-c12b-4eaf9b2d3812"
      },
      "source": [
        "index.values"
      ],
      "execution_count": 21,
      "outputs": [
        {
          "output_type": "execute_result",
          "data": {
            "text/plain": [
              "array([   0,    1,    2, ..., 4913, 4914, 4915])"
            ]
          },
          "metadata": {},
          "execution_count": 21
        }
      ]
    },
    {
      "cell_type": "code",
      "metadata": {
        "lines_to_next_cell": 2,
        "id": "0x5g12eTTrL0"
      },
      "source": [
        "columns.values"
      ],
      "execution_count": null,
      "outputs": []
    },
    {
      "cell_type": "markdown",
      "metadata": {
        "id": "uEuSyDAMTrL0"
      },
      "source": [
        "## Understanding data types"
      ]
    },
    {
      "cell_type": "markdown",
      "metadata": {
        "id": "fQl33SqMTrL1"
      },
      "source": [
        "### How to do it... {#how-to-do-it-2}"
      ]
    },
    {
      "cell_type": "code",
      "metadata": {
        "lines_to_next_cell": 2,
        "id": "WjvP0-mJTrL1",
        "colab": {
          "base_uri": "https://localhost:8080/"
        },
        "outputId": "576a174f-e90f-40f4-d9bb-a09862cd65f0"
      },
      "source": [
        "movies = pd.read_csv('/content/drive/MyDrive/ColabNotebooks/Pandas-Cookbook-Second-Edition/data/movie.csv')\n",
        "movies.dtypes"
      ],
      "execution_count": 23,
      "outputs": [
        {
          "output_type": "execute_result",
          "data": {
            "text/plain": [
              "color                       object\n",
              "director_name               object\n",
              "num_critic_for_reviews     float64\n",
              "duration                   float64\n",
              "director_facebook_likes    float64\n",
              "                            ...   \n",
              "title_year                 float64\n",
              "actor_2_facebook_likes     float64\n",
              "imdb_score                 float64\n",
              "aspect_ratio               float64\n",
              "movie_facebook_likes         int64\n",
              "Length: 28, dtype: object"
            ]
          },
          "metadata": {},
          "execution_count": 23
        }
      ]
    },
    {
      "cell_type": "code",
      "metadata": {
        "lines_to_next_cell": 2,
        "id": "a0vuqmGPTrL2",
        "colab": {
          "base_uri": "https://localhost:8080/"
        },
        "outputId": "d29cf13f-e7a4-4112-914d-7ad24f99b1a8"
      },
      "source": [
        "movies.dtypes"
      ],
      "execution_count": 24,
      "outputs": [
        {
          "output_type": "execute_result",
          "data": {
            "text/plain": [
              "color                       object\n",
              "director_name               object\n",
              "num_critic_for_reviews     float64\n",
              "duration                   float64\n",
              "director_facebook_likes    float64\n",
              "                            ...   \n",
              "title_year                 float64\n",
              "actor_2_facebook_likes     float64\n",
              "imdb_score                 float64\n",
              "aspect_ratio               float64\n",
              "movie_facebook_likes         int64\n",
              "Length: 28, dtype: object"
            ]
          },
          "metadata": {},
          "execution_count": 24
        }
      ]
    },
    {
      "cell_type": "code",
      "metadata": {
        "lines_to_next_cell": 2,
        "id": "J_8aYNNUTrL2",
        "colab": {
          "base_uri": "https://localhost:8080/"
        },
        "outputId": "a8d211eb-3686-40a1-f9cf-e3b915d9db97"
      },
      "source": [
        "movies.dtypes.value_counts()"
      ],
      "execution_count": 28,
      "outputs": [
        {
          "output_type": "execute_result",
          "data": {
            "text/plain": [
              "float64    13\n",
              "object     12\n",
              "int64       3\n",
              "dtype: int64"
            ]
          },
          "metadata": {},
          "execution_count": 28
        }
      ]
    },
    {
      "cell_type": "code",
      "metadata": {
        "lines_to_next_cell": 2,
        "id": "UmhWAaUMTrL2",
        "colab": {
          "base_uri": "https://localhost:8080/"
        },
        "outputId": "7ba9dce4-e60c-48f3-836c-954d5fb18e26"
      },
      "source": [
        "movies.info()"
      ],
      "execution_count": 29,
      "outputs": [
        {
          "output_type": "stream",
          "name": "stdout",
          "text": [
            "<class 'pandas.core.frame.DataFrame'>\n",
            "RangeIndex: 4916 entries, 0 to 4915\n",
            "Data columns (total 28 columns):\n",
            " #   Column                     Non-Null Count  Dtype  \n",
            "---  ------                     --------------  -----  \n",
            " 0   color                      4897 non-null   object \n",
            " 1   director_name              4814 non-null   object \n",
            " 2   num_critic_for_reviews     4867 non-null   float64\n",
            " 3   duration                   4901 non-null   float64\n",
            " 4   director_facebook_likes    4814 non-null   float64\n",
            " 5   actor_3_facebook_likes     4893 non-null   float64\n",
            " 6   actor_2_name               4903 non-null   object \n",
            " 7   actor_1_facebook_likes     4909 non-null   float64\n",
            " 8   gross                      4054 non-null   float64\n",
            " 9   genres                     4916 non-null   object \n",
            " 10  actor_1_name               4909 non-null   object \n",
            " 11  movie_title                4916 non-null   object \n",
            " 12  num_voted_users            4916 non-null   int64  \n",
            " 13  cast_total_facebook_likes  4916 non-null   int64  \n",
            " 14  actor_3_name               4893 non-null   object \n",
            " 15  facenumber_in_poster       4903 non-null   float64\n",
            " 16  plot_keywords              4764 non-null   object \n",
            " 17  movie_imdb_link            4916 non-null   object \n",
            " 18  num_user_for_reviews       4895 non-null   float64\n",
            " 19  language                   4904 non-null   object \n",
            " 20  country                    4911 non-null   object \n",
            " 21  content_rating             4616 non-null   object \n",
            " 22  budget                     4432 non-null   float64\n",
            " 23  title_year                 4810 non-null   float64\n",
            " 24  actor_2_facebook_likes     4903 non-null   float64\n",
            " 25  imdb_score                 4916 non-null   float64\n",
            " 26  aspect_ratio               4590 non-null   float64\n",
            " 27  movie_facebook_likes       4916 non-null   int64  \n",
            "dtypes: float64(13), int64(3), object(12)\n",
            "memory usage: 1.1+ MB\n"
          ]
        }
      ]
    },
    {
      "cell_type": "markdown",
      "metadata": {
        "id": "-dd6RjyPTrL3"
      },
      "source": [
        "### How it works..."
      ]
    },
    {
      "cell_type": "code",
      "metadata": {
        "lines_to_next_cell": 2,
        "id": "DvNoTv1DTrL3",
        "colab": {
          "base_uri": "https://localhost:8080/"
        },
        "outputId": "52d84790-3b2c-42c5-f1e4-da080c385bcc"
      },
      "source": [
        "pd.Series(['Paul', np.nan, 'George']).dtype"
      ],
      "execution_count": 30,
      "outputs": [
        {
          "output_type": "execute_result",
          "data": {
            "text/plain": [
              "dtype('O')"
            ]
          },
          "metadata": {},
          "execution_count": 30
        }
      ]
    },
    {
      "cell_type": "markdown",
      "metadata": {
        "id": "LfbPNRnjTrL3"
      },
      "source": [
        "### There's more..."
      ]
    },
    {
      "cell_type": "markdown",
      "metadata": {
        "id": "zzkLam-pTrL3"
      },
      "source": [
        "### See also"
      ]
    },
    {
      "cell_type": "markdown",
      "metadata": {
        "id": "2z56yX8lTrL4"
      },
      "source": [
        "## Selecting a Column"
      ]
    },
    {
      "cell_type": "markdown",
      "metadata": {
        "id": "6IZi8ydSTrL4"
      },
      "source": [
        "### How to do it... {#how-to-do-it-3}"
      ]
    },
    {
      "cell_type": "code",
      "metadata": {
        "lines_to_next_cell": 2,
        "id": "SrMQy2X2TrL4",
        "colab": {
          "base_uri": "https://localhost:8080/"
        },
        "outputId": "b19df544-6efe-442a-c511-27fb92227650"
      },
      "source": [
        "movies = pd.read_csv('/content/drive/MyDrive/ColabNotebooks/Pandas-Cookbook-Second-Edition/data/movie.csv')\n",
        "movies['director_name']"
      ],
      "execution_count": 31,
      "outputs": [
        {
          "output_type": "execute_result",
          "data": {
            "text/plain": [
              "0           James Cameron\n",
              "1          Gore Verbinski\n",
              "2              Sam Mendes\n",
              "3       Christopher Nolan\n",
              "4             Doug Walker\n",
              "              ...        \n",
              "4911          Scott Smith\n",
              "4912                  NaN\n",
              "4913     Benjamin Roberds\n",
              "4914          Daniel Hsia\n",
              "4915             Jon Gunn\n",
              "Name: director_name, Length: 4916, dtype: object"
            ]
          },
          "metadata": {},
          "execution_count": 31
        }
      ]
    },
    {
      "cell_type": "code",
      "metadata": {
        "lines_to_next_cell": 2,
        "id": "trtguklnTrL4",
        "colab": {
          "base_uri": "https://localhost:8080/"
        },
        "outputId": "e686ffbc-228f-4cff-f471-1bec87163da6"
      },
      "source": [
        "movies.director_name"
      ],
      "execution_count": 32,
      "outputs": [
        {
          "output_type": "execute_result",
          "data": {
            "text/plain": [
              "0           James Cameron\n",
              "1          Gore Verbinski\n",
              "2              Sam Mendes\n",
              "3       Christopher Nolan\n",
              "4             Doug Walker\n",
              "              ...        \n",
              "4911          Scott Smith\n",
              "4912                  NaN\n",
              "4913     Benjamin Roberds\n",
              "4914          Daniel Hsia\n",
              "4915             Jon Gunn\n",
              "Name: director_name, Length: 4916, dtype: object"
            ]
          },
          "metadata": {},
          "execution_count": 32
        }
      ]
    },
    {
      "cell_type": "code",
      "metadata": {
        "lines_to_next_cell": 2,
        "id": "6agUewIITrL5",
        "colab": {
          "base_uri": "https://localhost:8080/"
        },
        "outputId": "1e558ac8-8b0b-4457-cc21-b68870da06f5"
      },
      "source": [
        "movies.loc[:, 'director_name']"
      ],
      "execution_count": 33,
      "outputs": [
        {
          "output_type": "execute_result",
          "data": {
            "text/plain": [
              "0           James Cameron\n",
              "1          Gore Verbinski\n",
              "2              Sam Mendes\n",
              "3       Christopher Nolan\n",
              "4             Doug Walker\n",
              "              ...        \n",
              "4911          Scott Smith\n",
              "4912                  NaN\n",
              "4913     Benjamin Roberds\n",
              "4914          Daniel Hsia\n",
              "4915             Jon Gunn\n",
              "Name: director_name, Length: 4916, dtype: object"
            ]
          },
          "metadata": {},
          "execution_count": 33
        }
      ]
    },
    {
      "cell_type": "code",
      "metadata": {
        "lines_to_next_cell": 2,
        "id": "sdlM6DGCTrL5",
        "colab": {
          "base_uri": "https://localhost:8080/"
        },
        "outputId": "3f29f204-5776-4859-c2d3-47de16b9885c"
      },
      "source": [
        "movies.iloc[:, 1]"
      ],
      "execution_count": 34,
      "outputs": [
        {
          "output_type": "execute_result",
          "data": {
            "text/plain": [
              "0           James Cameron\n",
              "1          Gore Verbinski\n",
              "2              Sam Mendes\n",
              "3       Christopher Nolan\n",
              "4             Doug Walker\n",
              "              ...        \n",
              "4911          Scott Smith\n",
              "4912                  NaN\n",
              "4913     Benjamin Roberds\n",
              "4914          Daniel Hsia\n",
              "4915             Jon Gunn\n",
              "Name: director_name, Length: 4916, dtype: object"
            ]
          },
          "metadata": {},
          "execution_count": 34
        }
      ]
    },
    {
      "cell_type": "code",
      "metadata": {
        "lines_to_next_cell": 2,
        "id": "QUyiimyhTrL5",
        "colab": {
          "base_uri": "https://localhost:8080/"
        },
        "outputId": "0b2902e5-c813-4a65-f641-28209cf8ddcc"
      },
      "source": [
        "movies['director_name'].index"
      ],
      "execution_count": 35,
      "outputs": [
        {
          "output_type": "execute_result",
          "data": {
            "text/plain": [
              "RangeIndex(start=0, stop=4916, step=1)"
            ]
          },
          "metadata": {},
          "execution_count": 35
        }
      ]
    },
    {
      "cell_type": "code",
      "metadata": {
        "colab": {
          "base_uri": "https://localhost:8080/"
        },
        "id": "CQRiKGVtJnpn",
        "outputId": "0c6fd7fc-06e8-4351-b534-7d1ae8fff047"
      },
      "source": [
        "movies.director_name.index"
      ],
      "execution_count": 36,
      "outputs": [
        {
          "output_type": "execute_result",
          "data": {
            "text/plain": [
              "RangeIndex(start=0, stop=4916, step=1)"
            ]
          },
          "metadata": {},
          "execution_count": 36
        }
      ]
    },
    {
      "cell_type": "code",
      "metadata": {
        "lines_to_next_cell": 2,
        "id": "BkQXa7hyTrL6",
        "colab": {
          "base_uri": "https://localhost:8080/"
        },
        "outputId": "6c6a2608-fce2-4206-c2c3-617c1d440a5a"
      },
      "source": [
        "movies['director_name'].dtype"
      ],
      "execution_count": 37,
      "outputs": [
        {
          "output_type": "execute_result",
          "data": {
            "text/plain": [
              "dtype('O')"
            ]
          },
          "metadata": {},
          "execution_count": 37
        }
      ]
    },
    {
      "cell_type": "code",
      "metadata": {
        "colab": {
          "base_uri": "https://localhost:8080/"
        },
        "id": "eFAHaQFDJz82",
        "outputId": "8bcc0d7c-e140-46af-eb77-4f2d6033381f"
      },
      "source": [
        "movies.director_name.dtype"
      ],
      "execution_count": 38,
      "outputs": [
        {
          "output_type": "execute_result",
          "data": {
            "text/plain": [
              "dtype('O')"
            ]
          },
          "metadata": {},
          "execution_count": 38
        }
      ]
    },
    {
      "cell_type": "code",
      "metadata": {
        "lines_to_next_cell": 2,
        "id": "VvYuuIrGTrL6",
        "colab": {
          "base_uri": "https://localhost:8080/"
        },
        "outputId": "bc867062-2265-414a-e264-a98ceb18bded"
      },
      "source": [
        "movies['director_name'].size"
      ],
      "execution_count": 39,
      "outputs": [
        {
          "output_type": "execute_result",
          "data": {
            "text/plain": [
              "4916"
            ]
          },
          "metadata": {},
          "execution_count": 39
        }
      ]
    },
    {
      "cell_type": "code",
      "metadata": {
        "colab": {
          "base_uri": "https://localhost:8080/"
        },
        "id": "RaK6vtzQJ6PB",
        "outputId": "268993c2-2d3b-48b8-c2e0-160789584b03"
      },
      "source": [
        "movies.director_name.size"
      ],
      "execution_count": 40,
      "outputs": [
        {
          "output_type": "execute_result",
          "data": {
            "text/plain": [
              "4916"
            ]
          },
          "metadata": {},
          "execution_count": 40
        }
      ]
    },
    {
      "cell_type": "code",
      "metadata": {
        "lines_to_next_cell": 2,
        "id": "35uPK2rmTrL6",
        "colab": {
          "base_uri": "https://localhost:8080/",
          "height": 35
        },
        "outputId": "33074148-b0c5-4147-c2a4-0a33b0934ed4"
      },
      "source": [
        "movies['director_name'].name"
      ],
      "execution_count": 41,
      "outputs": [
        {
          "output_type": "execute_result",
          "data": {
            "application/vnd.google.colaboratory.intrinsic+json": {
              "type": "string"
            },
            "text/plain": [
              "'director_name'"
            ]
          },
          "metadata": {},
          "execution_count": 41
        }
      ]
    },
    {
      "cell_type": "code",
      "metadata": {
        "lines_to_next_cell": 2,
        "id": "77NUrxMHTrL6",
        "colab": {
          "base_uri": "https://localhost:8080/"
        },
        "outputId": "17add735-b2d2-4471-d660-82fb4e2b5400"
      },
      "source": [
        "type(movies['director_name'])"
      ],
      "execution_count": 42,
      "outputs": [
        {
          "output_type": "execute_result",
          "data": {
            "text/plain": [
              "pandas.core.series.Series"
            ]
          },
          "metadata": {},
          "execution_count": 42
        }
      ]
    },
    {
      "cell_type": "code",
      "metadata": {
        "lines_to_next_cell": 2,
        "id": "BkBU8DhITrL6"
      },
      "source": [
        "movies['director_name'].apply(type).unique()"
      ],
      "execution_count": null,
      "outputs": []
    },
    {
      "cell_type": "markdown",
      "metadata": {
        "id": "NcUuNrwhTrL7"
      },
      "source": [
        "### How it works... 10/20"
      ]
    },
    {
      "cell_type": "markdown",
      "metadata": {
        "id": "p9ZZSZkYTrL7"
      },
      "source": [
        "### There's more"
      ]
    },
    {
      "cell_type": "markdown",
      "metadata": {
        "id": "KrSBd1rYTrL7"
      },
      "source": [
        "### See also"
      ]
    },
    {
      "cell_type": "markdown",
      "metadata": {
        "id": "n7HhwmjRTrL7"
      },
      "source": [
        "## Calling Series Methods"
      ]
    },
    {
      "cell_type": "code",
      "metadata": {
        "lines_to_next_cell": 2,
        "id": "rypO9bBMTrL7"
      },
      "source": [
        "s_attr_methods = set(dir(pd.Series))\n",
        "len(s_attr_methods)"
      ],
      "execution_count": null,
      "outputs": []
    },
    {
      "cell_type": "code",
      "metadata": {
        "lines_to_next_cell": 2,
        "id": "TdDl8qrmTrL7"
      },
      "source": [
        "df_attr_methods = set(dir(pd.DataFrame))\n",
        "len(df_attr_methods)"
      ],
      "execution_count": null,
      "outputs": []
    },
    {
      "cell_type": "code",
      "metadata": {
        "lines_to_next_cell": 2,
        "id": "APTYOVkvTrL8"
      },
      "source": [
        "len(s_attr_methods & df_attr_methods)"
      ],
      "execution_count": null,
      "outputs": []
    },
    {
      "cell_type": "markdown",
      "metadata": {
        "id": "7R4HN1R6TrL8"
      },
      "source": [
        "### How to do it... {#how-to-do-it-4}"
      ]
    },
    {
      "cell_type": "code",
      "metadata": {
        "lines_to_next_cell": 2,
        "id": "ZREtgap2TrL8"
      },
      "source": [
        "movies = pd.read_csv('data/movie.csv')\n",
        "director = movies['director_name']\n",
        "fb_likes = movies['actor_1_facebook_likes']"
      ],
      "execution_count": null,
      "outputs": []
    },
    {
      "cell_type": "code",
      "metadata": {
        "lines_to_next_cell": 2,
        "id": "2gesP3A1TrL8"
      },
      "source": [
        "director.dtype"
      ],
      "execution_count": null,
      "outputs": []
    },
    {
      "cell_type": "code",
      "metadata": {
        "lines_to_next_cell": 2,
        "id": "22yWIywETrL8"
      },
      "source": [
        "fb_likes.dtype"
      ],
      "execution_count": null,
      "outputs": []
    },
    {
      "cell_type": "code",
      "metadata": {
        "lines_to_next_cell": 2,
        "id": "CBgmH6S7TrL9"
      },
      "source": [
        "director.head()"
      ],
      "execution_count": null,
      "outputs": []
    },
    {
      "cell_type": "code",
      "metadata": {
        "lines_to_next_cell": 2,
        "id": "a0mFdwRWTrL9"
      },
      "source": [
        "director.sample(n=5, random_state=42)"
      ],
      "execution_count": null,
      "outputs": []
    },
    {
      "cell_type": "code",
      "metadata": {
        "lines_to_next_cell": 2,
        "id": "dIztJLw6TrL9"
      },
      "source": [
        "fb_likes.head()"
      ],
      "execution_count": null,
      "outputs": []
    },
    {
      "cell_type": "code",
      "metadata": {
        "lines_to_next_cell": 2,
        "id": "KHfEpURnTrL9"
      },
      "source": [
        "director.value_counts()"
      ],
      "execution_count": null,
      "outputs": []
    },
    {
      "cell_type": "code",
      "metadata": {
        "lines_to_next_cell": 2,
        "id": "H4OYU3CNTrL9"
      },
      "source": [
        "fb_likes.value_counts()"
      ],
      "execution_count": null,
      "outputs": []
    },
    {
      "cell_type": "code",
      "metadata": {
        "lines_to_next_cell": 2,
        "id": "UEIodAxzTrL-"
      },
      "source": [
        "director.size"
      ],
      "execution_count": null,
      "outputs": []
    },
    {
      "cell_type": "code",
      "metadata": {
        "lines_to_next_cell": 2,
        "id": "6-8G0A_iTrL-"
      },
      "source": [
        "director.shape"
      ],
      "execution_count": null,
      "outputs": []
    },
    {
      "cell_type": "code",
      "metadata": {
        "lines_to_next_cell": 2,
        "id": "ZYTYRWbrTrL-"
      },
      "source": [
        "len(director)"
      ],
      "execution_count": null,
      "outputs": []
    },
    {
      "cell_type": "code",
      "metadata": {
        "lines_to_next_cell": 2,
        "id": "_UnhpdBJTrL-"
      },
      "source": [
        "director.unique()"
      ],
      "execution_count": null,
      "outputs": []
    },
    {
      "cell_type": "code",
      "metadata": {
        "lines_to_next_cell": 2,
        "id": "wo7tvjwrTrL-"
      },
      "source": [
        "director.count()"
      ],
      "execution_count": null,
      "outputs": []
    },
    {
      "cell_type": "code",
      "metadata": {
        "lines_to_next_cell": 2,
        "id": "-IKYZKt8TrL-"
      },
      "source": [
        "fb_likes.count()"
      ],
      "execution_count": null,
      "outputs": []
    },
    {
      "cell_type": "code",
      "metadata": {
        "lines_to_next_cell": 2,
        "id": "e0GL7HhDTrL_"
      },
      "source": [
        "fb_likes.quantile()"
      ],
      "execution_count": null,
      "outputs": []
    },
    {
      "cell_type": "code",
      "metadata": {
        "lines_to_next_cell": 2,
        "id": "2xJUG5h5TrL_"
      },
      "source": [
        "fb_likes.min()"
      ],
      "execution_count": null,
      "outputs": []
    },
    {
      "cell_type": "code",
      "metadata": {
        "lines_to_next_cell": 2,
        "id": "5gqmQy9hTrL_"
      },
      "source": [
        "fb_likes.max()"
      ],
      "execution_count": null,
      "outputs": []
    },
    {
      "cell_type": "code",
      "metadata": {
        "lines_to_next_cell": 2,
        "id": "t5uO5bj4TrL_"
      },
      "source": [
        "fb_likes.mean()"
      ],
      "execution_count": null,
      "outputs": []
    },
    {
      "cell_type": "code",
      "metadata": {
        "lines_to_next_cell": 2,
        "id": "yDnLMp5BTrL_"
      },
      "source": [
        "fb_likes.median()"
      ],
      "execution_count": null,
      "outputs": []
    },
    {
      "cell_type": "code",
      "metadata": {
        "lines_to_next_cell": 2,
        "id": "oKojEQcCTrL_"
      },
      "source": [
        "fb_likes.std()"
      ],
      "execution_count": null,
      "outputs": []
    },
    {
      "cell_type": "code",
      "metadata": {
        "lines_to_next_cell": 2,
        "id": "Yg_mwACUTrL_"
      },
      "source": [
        "fb_likes.describe()"
      ],
      "execution_count": null,
      "outputs": []
    },
    {
      "cell_type": "code",
      "metadata": {
        "lines_to_next_cell": 2,
        "id": "sWk4G1FnTrMA"
      },
      "source": [
        "director.describe()"
      ],
      "execution_count": null,
      "outputs": []
    },
    {
      "cell_type": "code",
      "metadata": {
        "lines_to_next_cell": 2,
        "id": "y74zL7VBTrMA"
      },
      "source": [
        "fb_likes.quantile(.2)"
      ],
      "execution_count": null,
      "outputs": []
    },
    {
      "cell_type": "code",
      "metadata": {
        "lines_to_next_cell": 2,
        "id": "Ltlsmk8mTrMA"
      },
      "source": [
        "fb_likes.quantile([.1, .2, .3, .4, .5, .6, .7, .8, .9])"
      ],
      "execution_count": null,
      "outputs": []
    },
    {
      "cell_type": "code",
      "metadata": {
        "lines_to_next_cell": 2,
        "id": "Hjt8ZKkATrMA"
      },
      "source": [
        "director.isna()"
      ],
      "execution_count": null,
      "outputs": []
    },
    {
      "cell_type": "code",
      "metadata": {
        "lines_to_next_cell": 2,
        "id": "7uLcKatzTrMA"
      },
      "source": [
        "fb_likes_filled = fb_likes.fillna(0)\n",
        "fb_likes_filled.count()"
      ],
      "execution_count": null,
      "outputs": []
    },
    {
      "cell_type": "code",
      "metadata": {
        "lines_to_next_cell": 2,
        "id": "vPGEFVDtTrMB"
      },
      "source": [
        "fb_likes_dropped = fb_likes.dropna()\n",
        "fb_likes_dropped.size"
      ],
      "execution_count": null,
      "outputs": []
    },
    {
      "cell_type": "markdown",
      "metadata": {
        "id": "kxY88RyPTrMB"
      },
      "source": [
        "### How it works..."
      ]
    },
    {
      "cell_type": "markdown",
      "metadata": {
        "id": "okMo0fmaTrMB"
      },
      "source": [
        "### There's more..."
      ]
    },
    {
      "cell_type": "code",
      "metadata": {
        "lines_to_next_cell": 2,
        "id": "mI6RxU4aTrMB"
      },
      "source": [
        "director.value_counts(normalize=True)"
      ],
      "execution_count": null,
      "outputs": []
    },
    {
      "cell_type": "code",
      "metadata": {
        "lines_to_next_cell": 2,
        "id": "SoPz09xQTrMB"
      },
      "source": [
        "director.hasnans"
      ],
      "execution_count": null,
      "outputs": []
    },
    {
      "cell_type": "code",
      "metadata": {
        "lines_to_next_cell": 2,
        "id": "qDhwWRhVTrMB"
      },
      "source": [
        "director.notna()"
      ],
      "execution_count": null,
      "outputs": []
    },
    {
      "cell_type": "markdown",
      "metadata": {
        "id": "uOZAmYgJTrMB"
      },
      "source": [
        "### See also"
      ]
    },
    {
      "cell_type": "markdown",
      "metadata": {
        "id": "3rQFGy3gTrMC"
      },
      "source": [
        "## Series Operations"
      ]
    },
    {
      "cell_type": "code",
      "metadata": {
        "lines_to_next_cell": 2,
        "id": "9AUZ6bbrTrMC"
      },
      "source": [
        "5 + 9    # plus operator example. Adds 5 and 9"
      ],
      "execution_count": null,
      "outputs": []
    },
    {
      "cell_type": "markdown",
      "metadata": {
        "id": "Nq2HyGTqTrMC"
      },
      "source": [
        "### How to do it... {#how-to-do-it-5}"
      ]
    },
    {
      "cell_type": "code",
      "metadata": {
        "lines_to_next_cell": 2,
        "id": "-WSg0V5aTrMC"
      },
      "source": [
        "movies = pd.read_csv('data/movie.csv')\n",
        "imdb_score = movies['imdb_score']\n",
        "imdb_score"
      ],
      "execution_count": null,
      "outputs": []
    },
    {
      "cell_type": "code",
      "metadata": {
        "lines_to_next_cell": 2,
        "id": "L3wffSLnTrMC"
      },
      "source": [
        "imdb_score + 1"
      ],
      "execution_count": null,
      "outputs": []
    },
    {
      "cell_type": "code",
      "metadata": {
        "lines_to_next_cell": 2,
        "id": "X2VQfC09TrMD"
      },
      "source": [
        "imdb_score * 2.5"
      ],
      "execution_count": null,
      "outputs": []
    },
    {
      "cell_type": "code",
      "metadata": {
        "lines_to_next_cell": 2,
        "id": "ro2eH7G6TrMD"
      },
      "source": [
        "imdb_score // 7"
      ],
      "execution_count": null,
      "outputs": []
    },
    {
      "cell_type": "code",
      "metadata": {
        "lines_to_next_cell": 2,
        "id": "Ljh-pgzfTrMD"
      },
      "source": [
        "imdb_score > 7"
      ],
      "execution_count": null,
      "outputs": []
    },
    {
      "cell_type": "code",
      "metadata": {
        "lines_to_next_cell": 2,
        "id": "kHn5aQFdTrMD"
      },
      "source": [
        "director = movies['director_name']\n",
        "director == 'James Cameron'"
      ],
      "execution_count": null,
      "outputs": []
    },
    {
      "cell_type": "markdown",
      "metadata": {
        "id": "jpErz6OYTrMD"
      },
      "source": [
        "### How it works..."
      ]
    },
    {
      "cell_type": "markdown",
      "metadata": {
        "id": "i1firM9oTrMD"
      },
      "source": [
        "### There's more..."
      ]
    },
    {
      "cell_type": "code",
      "metadata": {
        "lines_to_next_cell": 2,
        "id": "XuMgj8fyTrME"
      },
      "source": [
        "imdb_score.add(1)   # imdb_score + 1"
      ],
      "execution_count": null,
      "outputs": []
    },
    {
      "cell_type": "code",
      "metadata": {
        "lines_to_next_cell": 2,
        "id": "vZ-mXIn2TrME"
      },
      "source": [
        "imdb_score.gt(7)   # imdb_score > 7"
      ],
      "execution_count": null,
      "outputs": []
    },
    {
      "cell_type": "markdown",
      "metadata": {
        "id": "6dstQJBATrME"
      },
      "source": [
        "### See also"
      ]
    },
    {
      "cell_type": "markdown",
      "metadata": {
        "id": "Ymq6P1blTrME"
      },
      "source": [
        "## Chaining Series Methods"
      ]
    },
    {
      "cell_type": "markdown",
      "metadata": {
        "id": "p-mR0neMTrME"
      },
      "source": [
        "### How to do it... {#how-to-do-it-6}"
      ]
    },
    {
      "cell_type": "code",
      "metadata": {
        "lines_to_next_cell": 2,
        "id": "w_n2d0PuTrME"
      },
      "source": [
        "movies = pd.read_csv('data/movie.csv')\n",
        "fb_likes = movies['actor_1_facebook_likes']\n",
        "director = movies['director_name']"
      ],
      "execution_count": null,
      "outputs": []
    },
    {
      "cell_type": "code",
      "metadata": {
        "lines_to_next_cell": 2,
        "id": "MttAER_ITrMF"
      },
      "source": [
        "director.value_counts().head(3)"
      ],
      "execution_count": null,
      "outputs": []
    },
    {
      "cell_type": "code",
      "metadata": {
        "lines_to_next_cell": 2,
        "id": "63pXuBTzTrMF"
      },
      "source": [
        "fb_likes.isna().sum()"
      ],
      "execution_count": null,
      "outputs": []
    },
    {
      "cell_type": "code",
      "metadata": {
        "lines_to_next_cell": 2,
        "id": "mhgNxoBKTrMG"
      },
      "source": [
        "fb_likes.dtype"
      ],
      "execution_count": null,
      "outputs": []
    },
    {
      "cell_type": "code",
      "metadata": {
        "lines_to_next_cell": 2,
        "id": "fOpwMCfBTrMH"
      },
      "source": [
        "(fb_likes.fillna(0)\n",
        "         .astype(int)\n",
        "         .head()\n",
        ")"
      ],
      "execution_count": null,
      "outputs": []
    },
    {
      "cell_type": "markdown",
      "metadata": {
        "id": "K_cL4a2QTrMH"
      },
      "source": [
        "### How it works..."
      ]
    },
    {
      "cell_type": "markdown",
      "metadata": {
        "id": "zGt7T98oTrMH"
      },
      "source": [
        "### There's more..."
      ]
    },
    {
      "cell_type": "code",
      "metadata": {
        "lines_to_next_cell": 2,
        "id": "MxljI2tiTrMH"
      },
      "source": [
        "(fb_likes.fillna(0)\n",
        "         #.astype(int)\n",
        "         #.head()\n",
        ")"
      ],
      "execution_count": null,
      "outputs": []
    },
    {
      "cell_type": "code",
      "metadata": {
        "lines_to_next_cell": 2,
        "id": "1gFCqSUbTrMI"
      },
      "source": [
        "(fb_likes.fillna(0)\n",
        "         .astype(int)\n",
        "         #.head()\n",
        ")"
      ],
      "execution_count": null,
      "outputs": []
    },
    {
      "cell_type": "code",
      "metadata": {
        "lines_to_next_cell": 2,
        "id": "iVn5p0ItTrMI"
      },
      "source": [
        "fb_likes.isna().mean()"
      ],
      "execution_count": null,
      "outputs": []
    },
    {
      "cell_type": "code",
      "metadata": {
        "id": "fJaVoxJ3TrMI"
      },
      "source": [
        "fb_likes.fillna(0) \\\n",
        "        .astype(int) \\\n",
        "        .head()"
      ],
      "execution_count": null,
      "outputs": []
    },
    {
      "cell_type": "code",
      "metadata": {
        "id": "Bw0miOUPTrMI"
      },
      "source": [
        "def debug_df(df):\n",
        "    print(\"BEFORE\")\n",
        "    print(df)\n",
        "    print(\"AFTER\")\n",
        "    return df"
      ],
      "execution_count": null,
      "outputs": []
    },
    {
      "cell_type": "code",
      "metadata": {
        "lines_to_next_cell": 2,
        "id": "NUwN0gTGTrMI"
      },
      "source": [
        "(fb_likes.fillna(0)\n",
        "         .pipe(debug_df)\n",
        "         .astype(int) \n",
        "         .head()\n",
        ")"
      ],
      "execution_count": null,
      "outputs": []
    },
    {
      "cell_type": "code",
      "metadata": {
        "id": "Vg_EcGeUTrMJ"
      },
      "source": [
        "intermediate = None\n",
        "def get_intermediate(df):\n",
        "    global intermediate\n",
        "    intermediate = df\n",
        "    return df"
      ],
      "execution_count": null,
      "outputs": []
    },
    {
      "cell_type": "code",
      "metadata": {
        "lines_to_next_cell": 2,
        "id": "Az0JCavOTrMJ"
      },
      "source": [
        "res = (fb_likes.fillna(0)\n",
        "         .pipe(get_intermediate)\n",
        "         .astype(int) \n",
        "         .head()\n",
        ")"
      ],
      "execution_count": null,
      "outputs": []
    },
    {
      "cell_type": "code",
      "metadata": {
        "lines_to_next_cell": 2,
        "id": "6yzu_mXOTrMJ"
      },
      "source": [
        "intermediate"
      ],
      "execution_count": null,
      "outputs": []
    },
    {
      "cell_type": "markdown",
      "metadata": {
        "id": "igLmqPlSTrMJ"
      },
      "source": [
        "## Renaming Column Names"
      ]
    },
    {
      "cell_type": "markdown",
      "metadata": {
        "id": "KedYrcLVTrMJ"
      },
      "source": [
        "### How to do it..."
      ]
    },
    {
      "cell_type": "code",
      "metadata": {
        "lines_to_next_cell": 2,
        "id": "YGzfw8-DTrMJ"
      },
      "source": [
        "movies = pd.read_csv('data/movie.csv')"
      ],
      "execution_count": null,
      "outputs": []
    },
    {
      "cell_type": "code",
      "metadata": {
        "lines_to_next_cell": 2,
        "id": "mL6wIIFtTrMK"
      },
      "source": [
        "col_map = {'director_name':'Director Name', \n",
        "             'num_critic_for_reviews': 'Critical Reviews'} "
      ],
      "execution_count": null,
      "outputs": []
    },
    {
      "cell_type": "code",
      "metadata": {
        "lines_to_next_cell": 2,
        "id": "ZJCgJSPHTrMK"
      },
      "source": [
        "movies.rename(columns=col_map).head()"
      ],
      "execution_count": null,
      "outputs": []
    },
    {
      "cell_type": "markdown",
      "metadata": {
        "id": "-LZmVDnwTrMK"
      },
      "source": [
        "### How it works... {#how-it-works-8}"
      ]
    },
    {
      "cell_type": "markdown",
      "metadata": {
        "id": "E813wEuiTrMK"
      },
      "source": [
        "### There's more {#theres-more-7}"
      ]
    },
    {
      "cell_type": "code",
      "metadata": {
        "lines_to_next_cell": 2,
        "id": "sYYSUInYTrMK"
      },
      "source": [
        "idx_map = {'Avatar':'Ratava', 'Spectre': 'Ertceps',\n",
        "  \"Pirates of the Caribbean: At World's End\": 'POC'}\n",
        "col_map = {'aspect_ratio': 'aspect',\n",
        "  \"movie_facebook_likes\": 'fblikes'}\n",
        "(movies\n",
        "   .set_index('movie_title')\n",
        "   .rename(index=idx_map, columns=col_map)\n",
        "   .head(3)\n",
        ")"
      ],
      "execution_count": null,
      "outputs": []
    },
    {
      "cell_type": "code",
      "metadata": {
        "lines_to_next_cell": 2,
        "id": "2Q6D4WL8TrMK"
      },
      "source": [
        "movies = pd.read_csv('data/movie.csv', index_col='movie_title')\n",
        "ids = movies.index.tolist()\n",
        "columns = movies.columns.tolist()"
      ],
      "execution_count": null,
      "outputs": []
    },
    {
      "cell_type": "markdown",
      "metadata": {
        "id": "z0NpwazsTrMK"
      },
      "source": [
        "# rename the row and column labels with list assignments"
      ]
    },
    {
      "cell_type": "code",
      "metadata": {
        "lines_to_next_cell": 2,
        "id": "GBt1wMdhTrML"
      },
      "source": [
        "ids[0] = 'Ratava'\n",
        "ids[1] = 'POC'\n",
        "ids[2] = 'Ertceps'\n",
        "columns[1] = 'director'\n",
        "columns[-2] = 'aspect'\n",
        "columns[-1] = 'fblikes'\n",
        "movies.index = ids\n",
        "movies.columns = columns"
      ],
      "execution_count": null,
      "outputs": []
    },
    {
      "cell_type": "code",
      "metadata": {
        "id": "oPoklgTkTrML"
      },
      "source": [
        "movies.head(3)"
      ],
      "execution_count": null,
      "outputs": []
    },
    {
      "cell_type": "code",
      "metadata": {
        "id": "dHGvOyDvTrML"
      },
      "source": [
        "def to_clean(val):\n",
        "    return val.strip().lower().replace(' ', '_')"
      ],
      "execution_count": null,
      "outputs": []
    },
    {
      "cell_type": "code",
      "metadata": {
        "lines_to_next_cell": 2,
        "id": "YFTuhZYMTrML"
      },
      "source": [
        "movies.rename(columns=to_clean).head(3)"
      ],
      "execution_count": null,
      "outputs": []
    },
    {
      "cell_type": "code",
      "metadata": {
        "lines_to_next_cell": 2,
        "id": "3xBPO-p6TrML"
      },
      "source": [
        "cols = [col.strip().lower().replace(' ', '_')\n",
        "        for col in movies.columns]\n",
        "movies.columns = cols\n",
        "movies.head(3)"
      ],
      "execution_count": null,
      "outputs": []
    },
    {
      "cell_type": "markdown",
      "metadata": {
        "id": "kLD8W0rUTrML"
      },
      "source": [
        "## Creating and Deleting columns"
      ]
    },
    {
      "cell_type": "markdown",
      "metadata": {
        "id": "VcPBJHttTrML"
      },
      "source": [
        "### How to do it... {#how-to-do-it-9}"
      ]
    },
    {
      "cell_type": "code",
      "metadata": {
        "lines_to_next_cell": 2,
        "id": "JsKq2J3STrMM"
      },
      "source": [
        "movies = pd.read_csv('data/movie.csv')\n",
        "movies['has_seen'] = 0"
      ],
      "execution_count": null,
      "outputs": []
    },
    {
      "cell_type": "code",
      "metadata": {
        "lines_to_next_cell": 2,
        "id": "1gvQeohRTrMM"
      },
      "source": [
        "idx_map = {'Avatar':'Ratava', 'Spectre': 'Ertceps',\n",
        "  \"Pirates of the Caribbean: At World's End\": 'POC'}\n",
        "col_map = {'aspect_ratio': 'aspect',\n",
        "  \"movie_facebook_likes\": 'fblikes'}\n",
        "(movies\n",
        "   .rename(index=idx_map, columns=col_map)\n",
        "   .assign(has_seen=0)\n",
        ")"
      ],
      "execution_count": null,
      "outputs": []
    },
    {
      "cell_type": "code",
      "metadata": {
        "lines_to_next_cell": 2,
        "id": "gqHTBPmxTrMM"
      },
      "source": [
        "total = (movies['actor_1_facebook_likes'] +\n",
        "         movies['actor_2_facebook_likes'] + \n",
        "         movies['actor_3_facebook_likes'] + \n",
        "         movies['director_facebook_likes'])"
      ],
      "execution_count": null,
      "outputs": []
    },
    {
      "cell_type": "code",
      "metadata": {
        "lines_to_next_cell": 2,
        "id": "CBopuc7OTrMM"
      },
      "source": [
        "total.head(5)"
      ],
      "execution_count": null,
      "outputs": []
    },
    {
      "cell_type": "code",
      "metadata": {
        "lines_to_next_cell": 2,
        "id": "e9Q2d5P2TrMM"
      },
      "source": [
        "cols = ['actor_1_facebook_likes','actor_2_facebook_likes',\n",
        "    'actor_3_facebook_likes','director_facebook_likes']\n",
        "sum_col = movies[cols].sum(axis='columns')\n",
        "sum_col.head(5)"
      ],
      "execution_count": null,
      "outputs": []
    },
    {
      "cell_type": "code",
      "metadata": {
        "id": "RtpZ7eobTrMM"
      },
      "source": [
        "movies.assign(total_likes=sum_col).head(5)"
      ],
      "execution_count": null,
      "outputs": []
    },
    {
      "cell_type": "code",
      "metadata": {
        "id": "afM7ZDv_TrMN"
      },
      "source": [
        "def sum_likes(df):\n",
        "   return df[[c for c in df.columns\n",
        "              if 'like' in c]].sum(axis=1)"
      ],
      "execution_count": null,
      "outputs": []
    },
    {
      "cell_type": "code",
      "metadata": {
        "lines_to_next_cell": 2,
        "id": "VK_-2MO4TrMN"
      },
      "source": [
        "movies.assign(total_likes=sum_likes).head(5)"
      ],
      "execution_count": null,
      "outputs": []
    },
    {
      "cell_type": "code",
      "metadata": {
        "lines_to_next_cell": 2,
        "id": "lxbMrH00TrMN"
      },
      "source": [
        "(movies\n",
        "   .assign(total_likes=sum_col)\n",
        "   ['total_likes']\n",
        "   .isna()\n",
        "   .sum()\n",
        ")"
      ],
      "execution_count": null,
      "outputs": []
    },
    {
      "cell_type": "code",
      "metadata": {
        "lines_to_next_cell": 2,
        "id": "1VAjVPmoTrMN"
      },
      "source": [
        "(movies\n",
        "   .assign(total_likes=total)\n",
        "   ['total_likes']\n",
        "   .isna()\n",
        "   .sum()\n",
        ")"
      ],
      "execution_count": null,
      "outputs": []
    },
    {
      "cell_type": "code",
      "metadata": {
        "id": "I5BqftoETrMN"
      },
      "source": [
        "(movies\n",
        "   .assign(total_likes=total.fillna(0))\n",
        "   ['total_likes']\n",
        "   .isna()\n",
        "   .sum()\n",
        ")"
      ],
      "execution_count": null,
      "outputs": []
    },
    {
      "cell_type": "code",
      "metadata": {
        "id": "c0378-ARTrMN"
      },
      "source": [
        "def cast_like_gt_actor_director(df):\n",
        "    return df['cast_total_facebook_likes'] >= \\\n",
        "           df['total_likes']"
      ],
      "execution_count": null,
      "outputs": []
    },
    {
      "cell_type": "code",
      "metadata": {
        "lines_to_next_cell": 2,
        "id": "aIkrY2rzTrMO"
      },
      "source": [
        "df2 = (movies\n",
        "   .assign(total_likes=total,\n",
        "           is_cast_likes_more = cast_like_gt_actor_director)\n",
        ")"
      ],
      "execution_count": null,
      "outputs": []
    },
    {
      "cell_type": "code",
      "metadata": {
        "lines_to_next_cell": 2,
        "id": "ZqQ7Drm1TrMO"
      },
      "source": [
        "df2['is_cast_likes_more'].all()"
      ],
      "execution_count": null,
      "outputs": []
    },
    {
      "cell_type": "code",
      "metadata": {
        "lines_to_next_cell": 2,
        "id": "eT-ufHhaTrMO"
      },
      "source": [
        "df2 = df2.drop(columns='total_likes')"
      ],
      "execution_count": null,
      "outputs": []
    },
    {
      "cell_type": "code",
      "metadata": {
        "lines_to_next_cell": 2,
        "id": "msxFEmqOTrMO"
      },
      "source": [
        "actor_sum = (movies\n",
        "   [[c for c in movies.columns if 'actor_' in c and '_likes' in c]]\n",
        "   .sum(axis='columns')\n",
        ")"
      ],
      "execution_count": null,
      "outputs": []
    },
    {
      "cell_type": "code",
      "metadata": {
        "lines_to_next_cell": 2,
        "id": "35bBnXeUTrMP"
      },
      "source": [
        "actor_sum.head(5)"
      ],
      "execution_count": null,
      "outputs": []
    },
    {
      "cell_type": "code",
      "metadata": {
        "lines_to_next_cell": 2,
        "id": "3W_8GWWwTrMP"
      },
      "source": [
        "movies['cast_total_facebook_likes'] >= actor_sum"
      ],
      "execution_count": null,
      "outputs": []
    },
    {
      "cell_type": "code",
      "metadata": {
        "lines_to_next_cell": 2,
        "id": "Mmy3xAnZTrMP"
      },
      "source": [
        "movies['cast_total_facebook_likes'].ge(actor_sum)"
      ],
      "execution_count": null,
      "outputs": []
    },
    {
      "cell_type": "code",
      "metadata": {
        "lines_to_next_cell": 2,
        "id": "UwnmaBn2TrMP"
      },
      "source": [
        "movies['cast_total_facebook_likes'].ge(actor_sum).all()"
      ],
      "execution_count": null,
      "outputs": []
    },
    {
      "cell_type": "code",
      "metadata": {
        "lines_to_next_cell": 2,
        "id": "iL-maBUXTrMP"
      },
      "source": [
        "pct_like = (actor_sum\n",
        "    .div(movies['cast_total_facebook_likes'])\n",
        ")"
      ],
      "execution_count": null,
      "outputs": []
    },
    {
      "cell_type": "code",
      "metadata": {
        "lines_to_next_cell": 2,
        "id": "J-NSmNUNTrMP"
      },
      "source": [
        "pct_like.describe()"
      ],
      "execution_count": null,
      "outputs": []
    },
    {
      "cell_type": "code",
      "metadata": {
        "lines_to_next_cell": 2,
        "id": "J7HU9LFGTrMP"
      },
      "source": [
        "pd.Series(pct_like.values,\n",
        "    index=movies['movie_title'].values).head()"
      ],
      "execution_count": null,
      "outputs": []
    },
    {
      "cell_type": "markdown",
      "metadata": {
        "id": "DK2RrMo7TrMQ"
      },
      "source": [
        "### How it works... {#how-it-works-9}"
      ]
    },
    {
      "cell_type": "markdown",
      "metadata": {
        "id": "vQOVCntmTrMQ"
      },
      "source": [
        "### There's more... {#theres-more-8}"
      ]
    },
    {
      "cell_type": "code",
      "metadata": {
        "lines_to_next_cell": 2,
        "id": "KtK3c7z3TrMQ"
      },
      "source": [
        "profit_index = movies.columns.get_loc('gross') + 1\n",
        "profit_index"
      ],
      "execution_count": null,
      "outputs": []
    },
    {
      "cell_type": "code",
      "metadata": {
        "lines_to_next_cell": 2,
        "id": "BCidFO0JTrMQ"
      },
      "source": [
        "movies.insert(loc=profit_index,\n",
        "              column='profit',\n",
        "              value=movies['gross'] - movies['budget'])"
      ],
      "execution_count": null,
      "outputs": []
    },
    {
      "cell_type": "code",
      "metadata": {
        "lines_to_next_cell": 2,
        "id": "Hu-vx0q3TrMQ"
      },
      "source": [
        "del movies['director_name']"
      ],
      "execution_count": null,
      "outputs": []
    },
    {
      "cell_type": "markdown",
      "metadata": {
        "lines_to_next_cell": 2,
        "id": "hHJNMlM7TrMQ"
      },
      "source": [
        "### See also"
      ]
    }
  ]
}